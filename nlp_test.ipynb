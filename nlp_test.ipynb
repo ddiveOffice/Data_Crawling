{
 "cells": [
  {
   "cell_type": "markdown",
   "metadata": {},
   "source": [
    "### 추가 설치 필요 라이브러리\n",
    "    pip install customized_konlpy"
   ]
  },
  {
   "cell_type": "code",
   "execution_count": 1,
   "metadata": {
    "pycharm": {
     "is_executing": false
    }
   },
   "outputs": [],
   "source": [
    "from konlpy.tag import Okt\n",
    "import pandas as pd\n",
    "import numpy as np\n",
    "from sklearn.feature_extraction.text import TfidfVectorizer\n",
    "from sklearn.feature_extraction.text import CountVectorizer\n",
    "import pprint"
   ]
  },
  {
   "cell_type": "markdown",
   "metadata": {},
   "source": [
    "## Data import"
   ]
  },
  {
   "cell_type": "code",
   "execution_count": 2,
   "metadata": {
    "pycharm": {
     "is_executing": false,
     "name": "#%%\n"
    }
   },
   "outputs": [
    {
     "name": "stdout",
     "output_type": "stream",
     "text": [
      "shape of dataframe : (11520, 4)\n"
     ]
    },
    {
     "data": {
      "text/html": [
       "<div>\n",
       "<style scoped>\n",
       "    .dataframe tbody tr th:only-of-type {\n",
       "        vertical-align: middle;\n",
       "    }\n",
       "\n",
       "    .dataframe tbody tr th {\n",
       "        vertical-align: top;\n",
       "    }\n",
       "\n",
       "    .dataframe thead th {\n",
       "        text-align: right;\n",
       "    }\n",
       "</style>\n",
       "<table border=\"1\" class=\"dataframe\">\n",
       "  <thead>\n",
       "    <tr style=\"text-align: right;\">\n",
       "      <th></th>\n",
       "      <th>time</th>\n",
       "      <th>review_txt</th>\n",
       "      <th>stars_txt</th>\n",
       "      <th>ratings</th>\n",
       "    </tr>\n",
       "  </thead>\n",
       "  <tbody>\n",
       "    <tr>\n",
       "      <th>0</th>\n",
       "      <td>2019-05-30</td>\n",
       "      <td>핵과금: 엔씨 주 수입원(신화. 전설 ) Limit 중과금: 패키지 + 전설템 도전...</td>\n",
       "      <td>별표 5개 만점에 3개를 받았습니다.</td>\n",
       "      <td>3</td>\n",
       "    </tr>\n",
       "    <tr>\n",
       "      <th>1</th>\n",
       "      <td>2019-05-29</td>\n",
       "      <td>엘지전자 단말기로는 아예 겜을 하지말라는거요?거 해도해도 너무하네요. 삼성과 함께하...</td>\n",
       "      <td>별표 5개 만점에 1개를 받았습니다.</td>\n",
       "      <td>1</td>\n",
       "    </tr>\n",
       "    <tr>\n",
       "      <th>2</th>\n",
       "      <td>2019-06-03</td>\n",
       "      <td>김택진이를 재벌로 만들어준 게임의 모바일버전..김택진이의 재벌 욕심에 플레이어를 확...</td>\n",
       "      <td>별표 5개 만점에 1개를 받았습니다.</td>\n",
       "      <td>1</td>\n",
       "    </tr>\n",
       "    <tr>\n",
       "      <th>3</th>\n",
       "      <td>2019-06-01</td>\n",
       "      <td>구글포인트를 사용하여 게임내 아이템을 구매하였는데 어떤수단을 써도 인게임내 아이템 ...</td>\n",
       "      <td>별표 5개 만점에 3개를 받았습니다.</td>\n",
       "      <td>3</td>\n",
       "    </tr>\n",
       "    <tr>\n",
       "      <th>4</th>\n",
       "      <td>2019-05-28</td>\n",
       "      <td>일단 이건 게임이 아닙니다. 대다수의 아이템이 현금을 투입해야만 획득이 가능한 상태...</td>\n",
       "      <td>별표 5개 만점에 1개를 받았습니다.</td>\n",
       "      <td>1</td>\n",
       "    </tr>\n",
       "  </tbody>\n",
       "</table>\n",
       "</div>"
      ],
      "text/plain": [
       "         time                                         review_txt  \\\n",
       "0  2019-05-30  핵과금: 엔씨 주 수입원(신화. 전설 ) Limit 중과금: 패키지 + 전설템 도전...   \n",
       "1  2019-05-29  엘지전자 단말기로는 아예 겜을 하지말라는거요?거 해도해도 너무하네요. 삼성과 함께하...   \n",
       "2  2019-06-03  김택진이를 재벌로 만들어준 게임의 모바일버전..김택진이의 재벌 욕심에 플레이어를 확...   \n",
       "3  2019-06-01  구글포인트를 사용하여 게임내 아이템을 구매하였는데 어떤수단을 써도 인게임내 아이템 ...   \n",
       "4  2019-05-28  일단 이건 게임이 아닙니다. 대다수의 아이템이 현금을 투입해야만 획득이 가능한 상태...   \n",
       "\n",
       "              stars_txt  ratings  \n",
       "0  별표 5개 만점에 3개를 받았습니다.        3  \n",
       "1  별표 5개 만점에 1개를 받았습니다.        1  \n",
       "2  별표 5개 만점에 1개를 받았습니다.        1  \n",
       "3  별표 5개 만점에 3개를 받았습니다.        3  \n",
       "4  별표 5개 만점에 1개를 받았습니다.        1  "
      ]
     },
     "execution_count": 2,
     "metadata": {},
     "output_type": "execute_result"
    }
   ],
   "source": [
    "df = pd.read_csv('review_crwl_RM.csv')\n",
    "print(\"shape of dataframe : {}\".format(df.shape))\n",
    "df.head()"
   ]
  },
  {
   "cell_type": "code",
   "execution_count": 91,
   "metadata": {
    "pycharm": {
     "is_executing": false,
     "name": "#%%\n"
    }
   },
   "outputs": [
    {
     "name": "stderr",
     "output_type": "stream",
     "text": [
      "C:\\ProgramData\\Anaconda3\\lib\\site-packages\\ipykernel_launcher.py:8: FutureWarning: Method .as_matrix will be removed in a future version. Use .values instead.\n",
      "  \n"
     ]
    }
   ],
   "source": [
    "# 원문 text의 수정\n",
    "edi_tok = ['잼', '업뎃', '쓰래기','아이탬']\n",
    "pro_tok = ['재미','업데이트', '쓰레기', '아이템']\n",
    "df['review_txt'] = df['review_txt'].str.replace('전체 리뷰', '')\n",
    "df['review_txt'] = df['review_txt'].str.replace(r'[-=+,#/\\;?:^$.@*\\\"※~&%ㆍ!』\\\\‘|\\(\\)\\[\\]\\<\\>`\\'…》0-9]', '')\n",
    "df['review_txt'] = df['review_txt'].replace(edi_tok, pro_tok,regex=True)\n",
    "\n",
    "doc_to_mat = df['review_txt'].as_matrix()\n",
    "doc_to_mat = list(doc_to_mat)"
   ]
  },
  {
   "cell_type": "code",
   "execution_count": 92,
   "metadata": {
    "pycharm": {
     "is_executing": false,
     "name": "#%%\n"
    }
   },
   "outputs": [
    {
     "name": "stdout",
     "output_type": "stream",
     "text": [
      "{'Adjective': '형용사',\n",
      " 'Adverb': '부사',\n",
      " 'Alpha': '알파벳',\n",
      " 'Conjunction': '접속사',\n",
      " 'Determiner': '관형사',\n",
      " 'Eomi': '어미',\n",
      " 'Exclamation': '감탄사',\n",
      " 'Foreign': '외국어, 한자 및 기타기호',\n",
      " 'Hashtag': '트위터 해쉬태그',\n",
      " 'Josa': '조사',\n",
      " 'KoreanParticle': '(ex: ㅋㅋ)',\n",
      " 'Noun': '명사',\n",
      " 'Number': '숫자',\n",
      " 'PreEomi': '선어말어미',\n",
      " 'Punctuation': '구두점',\n",
      " 'ScreenName': '트위터 아이디',\n",
      " 'Suffix': '접미사',\n",
      " 'Unknown': '미등록어',\n",
      " 'Verb': '동사'}\n"
     ]
    }
   ],
   "source": [
    "okt = Okt()\n",
    "pprint.pprint(okt.tagset)"
   ]
  },
  {
   "cell_type": "code",
   "execution_count": 93,
   "metadata": {
    "pycharm": {
     "is_executing": false,
     "name": "#%%\n"
    }
   },
   "outputs": [
    {
     "name": "stderr",
     "output_type": "stream",
     "text": [
      "C:\\ProgramData\\Anaconda3\\lib\\site-packages\\konlpy\\tag\\_okt.py:16: UserWarning: \"Twitter\" has changed to \"Okt\" since KoNLPy v0.4.5.\n",
      "  warn('\"Twitter\" has changed to \"Okt\" since KoNLPy v0.4.5.')\n"
     ]
    }
   ],
   "source": [
    "from ckonlpy.tag import Twitter\n",
    "twitter = Twitter(use_twitter_dictionary=False)\n",
    "twitter.add_dictionary(['사행성','리니지m', '핵과금', '무과금', '가챠'], 'Noun') #명사 추가 사전\n",
    "twitter.add_dictionary(['갑자기','이제','다시', '계속', '역시', '지금', '아주','완전'], 'Adverb') #명사 -> 부사\n",
    "twitter.add_dictionary(['이건'], 'Determiner') #명사 > 관형사\n",
    "stopwords = [\"이다\", \"있다\", '진짜', '입니다', '게임','아니','하나', '정말',' 계속','그냥']\n",
    "def tokenizer(raw, pos=[\"Noun\"], stopword=stopwords): #품사 지정 \n",
    "    return [\n",
    "        word for word, tag in twitter.pos(raw, \n",
    "            norm=True,   # normalize 그랰ㅋㅋ -> 그래ㅋㅋ\n",
    "            stem=True    # stemming 바뀌나->바뀌다\n",
    "            )\n",
    "            if len(word) > 1 and tag in pos and word not in stopword\n",
    "        ]"
   ]
  },
  {
   "cell_type": "raw",
   "metadata": {},
   "source": [
    "from ckonlpy.tag import Postprocessor\n",
    "twitter = Twitter(use_twitter_dictionary=False)\n",
    "twitter.add_dictionary(['사행성','리니지m', '핵과금', '무과금'], 'Noun') #신규 단어 추가 사전, 무과금의 경우 무(명사) 과금(명사) 로 나누어지게되는데 이와 같은 단어를 위한 단어 추가\n",
    "twitter.add_dictionary(['갑자기','이제','다시', '계속', '역시', '지금','자꾸'], 'Adverb')\n",
    "stopwords = [\"이다\", \"있다\", '진짜', '입니다', '게임','아니','하나', '정말',' 계속','그냥']\n",
    "replace = {'잼': '재미', '업뎃':'업데이트'} #단어 대체 사전\n",
    "postprocessor = Postprocessor(twitter, replace = replace, passtags = ['Noun']) #여러 품사 중 명사만 통과시킴\n",
    "\n",
    "def tokenizer2(raw): #품사 지정 \n",
    "    return [\n",
    "        word for word, tag in postprocessor.pos(raw)\n",
    "        if len(word) > 1 and word not in stopwords\n",
    "        ]"
   ]
  },
  {
   "cell_type": "code",
   "execution_count": 94,
   "metadata": {
    "pycharm": {
     "is_executing": false,
     "name": "#%%\n"
    }
   },
   "outputs": [
    {
     "name": "stdout",
     "output_type": "stream",
     "text": [
      "fit_transform, (sentence 11520, feature 724)\n"
     ]
    }
   ],
   "source": [
    "vectorizer = CountVectorizer(tokenizer=tokenizer, min_df=10, ngram_range=(1,2)) #tokenizer, 최소 출현문서 수, ngram 범위 uni~tri gram (최대출현문서수 추가 가능)\n",
    "doc_to_vec = vectorizer.fit_transform(doc_to_mat)\n",
    "print('fit_transform, (sentence {}, feature {})'.format(doc_to_vec.shape[0], doc_to_vec.shape[1]))"
   ]
  },
  {
   "cell_type": "code",
   "execution_count": 95,
   "metadata": {
    "pycharm": {
     "is_executing": false,
     "name": "#%%\n"
    }
   },
   "outputs": [
    {
     "name": "stdout",
     "output_type": "stream",
     "text": [
      "[[0 0 0 ... 0 0 0]\n",
      " [0 0 0 ... 0 0 0]\n",
      " [0 0 0 ... 0 0 0]\n",
      " ...\n",
      " [0 0 0 ... 0 0 0]\n",
      " [0 0 0 ... 0 0 0]\n",
      " [0 0 0 ... 0 0 0]]\n"
     ]
    }
   ],
   "source": [
    "print(doc_to_vec.toarray())\n",
    "features = vectorizer.get_feature_names()\n",
    "#pprint.pprint(features)"
   ]
  },
  {
   "cell_type": "code",
   "execution_count": 96,
   "metadata": {
    "pycharm": {
     "is_executing": false,
     "name": "#%%\n"
    }
   },
   "outputs": [
    {
     "data": {
      "text/html": [
       "<div>\n",
       "<style scoped>\n",
       "    .dataframe tbody tr th:only-of-type {\n",
       "        vertical-align: middle;\n",
       "    }\n",
       "\n",
       "    .dataframe tbody tr th {\n",
       "        vertical-align: top;\n",
       "    }\n",
       "\n",
       "    .dataframe thead th {\n",
       "        text-align: right;\n",
       "    }\n",
       "</style>\n",
       "<table border=\"1\" class=\"dataframe\">\n",
       "  <thead>\n",
       "    <tr style=\"text-align: right;\">\n",
       "      <th></th>\n",
       "      <th>가끔</th>\n",
       "      <th>가능</th>\n",
       "      <th>가라</th>\n",
       "      <th>가면</th>\n",
       "      <th>가안</th>\n",
       "      <th>가요</th>\n",
       "      <th>가장</th>\n",
       "      <th>가지</th>\n",
       "      <th>각인</th>\n",
       "      <th>간다</th>\n",
       "      <th>...</th>\n",
       "      <th>환불</th>\n",
       "      <th>환불 요청</th>\n",
       "      <th>회사</th>\n",
       "      <th>획득</th>\n",
       "      <th>횟수</th>\n",
       "      <th>후회</th>\n",
       "      <th>휴대폰</th>\n",
       "      <th>흑기사</th>\n",
       "      <th>흑우</th>\n",
       "      <th>희귀</th>\n",
       "    </tr>\n",
       "  </thead>\n",
       "  <tbody>\n",
       "    <tr>\n",
       "      <th>0</th>\n",
       "      <td>0</td>\n",
       "      <td>0</td>\n",
       "      <td>0</td>\n",
       "      <td>0</td>\n",
       "      <td>0</td>\n",
       "      <td>0</td>\n",
       "      <td>0</td>\n",
       "      <td>0</td>\n",
       "      <td>0</td>\n",
       "      <td>0</td>\n",
       "      <td>...</td>\n",
       "      <td>0</td>\n",
       "      <td>0</td>\n",
       "      <td>0</td>\n",
       "      <td>0</td>\n",
       "      <td>0</td>\n",
       "      <td>0</td>\n",
       "      <td>0</td>\n",
       "      <td>0</td>\n",
       "      <td>0</td>\n",
       "      <td>0</td>\n",
       "    </tr>\n",
       "    <tr>\n",
       "      <th>1</th>\n",
       "      <td>0</td>\n",
       "      <td>0</td>\n",
       "      <td>0</td>\n",
       "      <td>0</td>\n",
       "      <td>0</td>\n",
       "      <td>0</td>\n",
       "      <td>0</td>\n",
       "      <td>0</td>\n",
       "      <td>0</td>\n",
       "      <td>0</td>\n",
       "      <td>...</td>\n",
       "      <td>0</td>\n",
       "      <td>0</td>\n",
       "      <td>0</td>\n",
       "      <td>0</td>\n",
       "      <td>0</td>\n",
       "      <td>0</td>\n",
       "      <td>0</td>\n",
       "      <td>0</td>\n",
       "      <td>0</td>\n",
       "      <td>0</td>\n",
       "    </tr>\n",
       "    <tr>\n",
       "      <th>2</th>\n",
       "      <td>0</td>\n",
       "      <td>0</td>\n",
       "      <td>0</td>\n",
       "      <td>0</td>\n",
       "      <td>0</td>\n",
       "      <td>0</td>\n",
       "      <td>0</td>\n",
       "      <td>0</td>\n",
       "      <td>0</td>\n",
       "      <td>0</td>\n",
       "      <td>...</td>\n",
       "      <td>0</td>\n",
       "      <td>0</td>\n",
       "      <td>0</td>\n",
       "      <td>0</td>\n",
       "      <td>0</td>\n",
       "      <td>0</td>\n",
       "      <td>0</td>\n",
       "      <td>0</td>\n",
       "      <td>0</td>\n",
       "      <td>0</td>\n",
       "    </tr>\n",
       "    <tr>\n",
       "      <th>3</th>\n",
       "      <td>0</td>\n",
       "      <td>0</td>\n",
       "      <td>0</td>\n",
       "      <td>0</td>\n",
       "      <td>0</td>\n",
       "      <td>0</td>\n",
       "      <td>0</td>\n",
       "      <td>0</td>\n",
       "      <td>0</td>\n",
       "      <td>0</td>\n",
       "      <td>...</td>\n",
       "      <td>0</td>\n",
       "      <td>0</td>\n",
       "      <td>0</td>\n",
       "      <td>0</td>\n",
       "      <td>0</td>\n",
       "      <td>0</td>\n",
       "      <td>0</td>\n",
       "      <td>0</td>\n",
       "      <td>0</td>\n",
       "      <td>0</td>\n",
       "    </tr>\n",
       "    <tr>\n",
       "      <th>4</th>\n",
       "      <td>0</td>\n",
       "      <td>0</td>\n",
       "      <td>0</td>\n",
       "      <td>0</td>\n",
       "      <td>0</td>\n",
       "      <td>0</td>\n",
       "      <td>0</td>\n",
       "      <td>0</td>\n",
       "      <td>0</td>\n",
       "      <td>0</td>\n",
       "      <td>...</td>\n",
       "      <td>0</td>\n",
       "      <td>0</td>\n",
       "      <td>0</td>\n",
       "      <td>1</td>\n",
       "      <td>0</td>\n",
       "      <td>0</td>\n",
       "      <td>0</td>\n",
       "      <td>0</td>\n",
       "      <td>0</td>\n",
       "      <td>0</td>\n",
       "    </tr>\n",
       "  </tbody>\n",
       "</table>\n",
       "<p>5 rows × 724 columns</p>\n",
       "</div>"
      ],
      "text/plain": [
       "   가끔  가능  가라  가면  가안  가요  가장  가지  각인  간다  ...  환불  환불 요청  회사  획득  횟수  후회  \\\n",
       "0   0   0   0   0   0   0   0   0   0   0  ...   0      0   0   0   0   0   \n",
       "1   0   0   0   0   0   0   0   0   0   0  ...   0      0   0   0   0   0   \n",
       "2   0   0   0   0   0   0   0   0   0   0  ...   0      0   0   0   0   0   \n",
       "3   0   0   0   0   0   0   0   0   0   0  ...   0      0   0   0   0   0   \n",
       "4   0   0   0   0   0   0   0   0   0   0  ...   0      0   0   1   0   0   \n",
       "\n",
       "   휴대폰  흑기사  흑우  희귀  \n",
       "0    0    0   0   0  \n",
       "1    0    0   0   0  \n",
       "2    0    0   0   0  \n",
       "3    0    0   0   0  \n",
       "4    0    0   0   0  \n",
       "\n",
       "[5 rows x 724 columns]"
      ]
     },
     "execution_count": 96,
     "metadata": {},
     "output_type": "execute_result"
    }
   ],
   "source": [
    "doc_to_vec_df = pd.DataFrame(doc_to_vec.toarray(), columns=features)\n",
    "doc_to_vec_df.head()"
   ]
  },
  {
   "cell_type": "code",
   "execution_count": 97,
   "metadata": {
    "pycharm": {
     "is_executing": false,
     "name": "#%%\n"
    }
   },
   "outputs": [],
   "source": [
    "#doc_to_vec_df.to_csv('doc2vec_test.csv', index = False)"
   ]
  },
  {
   "cell_type": "code",
   "execution_count": 98,
   "metadata": {
    "pycharm": {
     "is_executing": false,
     "name": "#%%\n"
    }
   },
   "outputs": [
    {
     "name": "stdout",
     "output_type": "stream",
     "text": [
      "724\n"
     ]
    }
   ],
   "source": [
    "max_value = doc_to_vec.max(axis=0).toarray().ravel()\n",
    "print(len(max_value))\n",
    "sort_by_count = max_value.argsort()\n",
    "features_name = np.array(vectorizer.get_feature_names())"
   ]
  },
  {
   "cell_type": "code",
   "execution_count": 99,
   "metadata": {
    "pycharm": {
     "is_executing": false,
     "name": "#%%\n"
    }
   },
   "outputs": [
    {
     "name": "stdout",
     "output_type": "stream",
     "text": [
      "상위 빈도 token 50개 : \n",
      " 변신       127\n",
      "영변       130\n",
      "캐릭       130\n",
      "운영       134\n",
      "해도       134\n",
      "사냥       135\n",
      "다운       136\n",
      "재미나      138\n",
      "해결       139\n",
      "환불       142\n",
      "정도       143\n",
      "마켓       143\n",
      "리니지m     148\n",
      "다이아      150\n",
      "인증       150\n",
      "삭제       156\n",
      "자꾸       156\n",
      "과금 유도    159\n",
      "시작       165\n",
      "에러       175\n",
      "추억       176\n",
      "계정       179\n",
      "설치       179\n",
      "케릭       186\n",
      "확률       190\n",
      "도박       197\n",
      "시간       199\n",
      "쓰레기      211\n",
      "이벤트      222\n",
      "최악       223\n",
      "사람       225\n",
      "아인       226\n",
      "오류       233\n",
      "사행성      237\n",
      "엔씨       241\n",
      "결제       245\n",
      "아이템      245\n",
      "서버       247\n",
      "생각       252\n",
      "현질 유도    257\n",
      "무과금      275\n",
      "최고       348\n",
      "재미       425\n",
      "유도       483\n",
      "유저       503\n",
      "리니지      526\n",
      "과금       585\n",
      "접속       768\n",
      "현질       820\n",
      "업데이트     941\n",
      "dtype: int64\n"
     ]
    }
   ],
   "source": [
    "tokencnt = doc_to_vec_df.sum(axis=0)\n",
    "tokencnt = tokencnt.sort_values()\n",
    "print(\"상위 빈도 token 50개 : \\n {}\".format(tokencnt[-50:]))"
   ]
  },
  {
   "cell_type": "markdown",
   "metadata": {},
   "source": [
    "## TF_IDF"
   ]
  },
  {
   "cell_type": "code",
   "execution_count": 100,
   "metadata": {
    "pycharm": {
     "is_executing": false,
     "name": "#%%\n"
    }
   },
   "outputs": [
    {
     "name": "stdout",
     "output_type": "stream",
     "text": [
      "fit_transform, (sentence 11520, feature 1494)\n",
      "[[0. 0. 0. ... 0. 0. 0.]\n",
      " [0. 0. 0. ... 0. 0. 0.]\n",
      " [0. 0. 0. ... 0. 0. 0.]\n",
      " ...\n",
      " [0. 0. 0. ... 0. 0. 0.]\n",
      " [0. 0. 0. ... 0. 0. 0.]\n",
      " [0. 0. 0. ... 0. 0. 0.]]\n"
     ]
    }
   ],
   "source": [
    "tfidfvectorizer = TfidfVectorizer(tokenizer=tokenizer, min_df=5,ngram_range=(1,2))    # tf값에 1+log(tf)를 적용하여 tf값이 무한정 커지는 것을 막음)\n",
    "tfidfvector = tfidfvectorizer.fit_transform(doc_to_mat)\n",
    "print('fit_transform, (sentence {}, feature {})'.format(tfidfvector.shape[0], tfidfvector.shape[1]))\n",
    "print(tfidfvector.toarray())\n",
    "features = tfidfvectorizer.get_feature_names()\n",
    "#print(features)"
   ]
  },
  {
   "cell_type": "code",
   "execution_count": 101,
   "metadata": {
    "pycharm": {
     "is_executing": false,
     "name": "#%%\n"
    }
   },
   "outputs": [
    {
     "data": {
      "text/html": [
       "<div>\n",
       "<style scoped>\n",
       "    .dataframe tbody tr th:only-of-type {\n",
       "        vertical-align: middle;\n",
       "    }\n",
       "\n",
       "    .dataframe tbody tr th {\n",
       "        vertical-align: top;\n",
       "    }\n",
       "\n",
       "    .dataframe thead th {\n",
       "        text-align: right;\n",
       "    }\n",
       "</style>\n",
       "<table border=\"1\" class=\"dataframe\">\n",
       "  <thead>\n",
       "    <tr style=\"text-align: right;\">\n",
       "      <th></th>\n",
       "      <th>가격</th>\n",
       "      <th>가까이</th>\n",
       "      <th>가끔</th>\n",
       "      <th>가능</th>\n",
       "      <th>가라</th>\n",
       "      <th>가면</th>\n",
       "      <th>가바</th>\n",
       "      <th>가방</th>\n",
       "      <th>가안</th>\n",
       "      <th>가왜</th>\n",
       "      <th>...</th>\n",
       "      <th>획득</th>\n",
       "      <th>횟수</th>\n",
       "      <th>횟수 초과</th>\n",
       "      <th>후회</th>\n",
       "      <th>휴대폰</th>\n",
       "      <th>흑기사</th>\n",
       "      <th>흑우</th>\n",
       "      <th>흥미</th>\n",
       "      <th>희귀</th>\n",
       "      <th>희망</th>\n",
       "    </tr>\n",
       "  </thead>\n",
       "  <tbody>\n",
       "    <tr>\n",
       "      <th>0</th>\n",
       "      <td>0.0</td>\n",
       "      <td>0.0</td>\n",
       "      <td>0.0</td>\n",
       "      <td>0.0</td>\n",
       "      <td>0.0</td>\n",
       "      <td>0.0</td>\n",
       "      <td>0.0</td>\n",
       "      <td>0.0</td>\n",
       "      <td>0.0</td>\n",
       "      <td>0.0</td>\n",
       "      <td>...</td>\n",
       "      <td>0.000000</td>\n",
       "      <td>0.0</td>\n",
       "      <td>0.0</td>\n",
       "      <td>0.0</td>\n",
       "      <td>0.0</td>\n",
       "      <td>0.0</td>\n",
       "      <td>0.0</td>\n",
       "      <td>0.0</td>\n",
       "      <td>0.0</td>\n",
       "      <td>0.0</td>\n",
       "    </tr>\n",
       "    <tr>\n",
       "      <th>1</th>\n",
       "      <td>0.0</td>\n",
       "      <td>0.0</td>\n",
       "      <td>0.0</td>\n",
       "      <td>0.0</td>\n",
       "      <td>0.0</td>\n",
       "      <td>0.0</td>\n",
       "      <td>0.0</td>\n",
       "      <td>0.0</td>\n",
       "      <td>0.0</td>\n",
       "      <td>0.0</td>\n",
       "      <td>...</td>\n",
       "      <td>0.000000</td>\n",
       "      <td>0.0</td>\n",
       "      <td>0.0</td>\n",
       "      <td>0.0</td>\n",
       "      <td>0.0</td>\n",
       "      <td>0.0</td>\n",
       "      <td>0.0</td>\n",
       "      <td>0.0</td>\n",
       "      <td>0.0</td>\n",
       "      <td>0.0</td>\n",
       "    </tr>\n",
       "    <tr>\n",
       "      <th>2</th>\n",
       "      <td>0.0</td>\n",
       "      <td>0.0</td>\n",
       "      <td>0.0</td>\n",
       "      <td>0.0</td>\n",
       "      <td>0.0</td>\n",
       "      <td>0.0</td>\n",
       "      <td>0.0</td>\n",
       "      <td>0.0</td>\n",
       "      <td>0.0</td>\n",
       "      <td>0.0</td>\n",
       "      <td>...</td>\n",
       "      <td>0.000000</td>\n",
       "      <td>0.0</td>\n",
       "      <td>0.0</td>\n",
       "      <td>0.0</td>\n",
       "      <td>0.0</td>\n",
       "      <td>0.0</td>\n",
       "      <td>0.0</td>\n",
       "      <td>0.0</td>\n",
       "      <td>0.0</td>\n",
       "      <td>0.0</td>\n",
       "    </tr>\n",
       "    <tr>\n",
       "      <th>3</th>\n",
       "      <td>0.0</td>\n",
       "      <td>0.0</td>\n",
       "      <td>0.0</td>\n",
       "      <td>0.0</td>\n",
       "      <td>0.0</td>\n",
       "      <td>0.0</td>\n",
       "      <td>0.0</td>\n",
       "      <td>0.0</td>\n",
       "      <td>0.0</td>\n",
       "      <td>0.0</td>\n",
       "      <td>...</td>\n",
       "      <td>0.000000</td>\n",
       "      <td>0.0</td>\n",
       "      <td>0.0</td>\n",
       "      <td>0.0</td>\n",
       "      <td>0.0</td>\n",
       "      <td>0.0</td>\n",
       "      <td>0.0</td>\n",
       "      <td>0.0</td>\n",
       "      <td>0.0</td>\n",
       "      <td>0.0</td>\n",
       "    </tr>\n",
       "    <tr>\n",
       "      <th>4</th>\n",
       "      <td>0.0</td>\n",
       "      <td>0.0</td>\n",
       "      <td>0.0</td>\n",
       "      <td>0.0</td>\n",
       "      <td>0.0</td>\n",
       "      <td>0.0</td>\n",
       "      <td>0.0</td>\n",
       "      <td>0.0</td>\n",
       "      <td>0.0</td>\n",
       "      <td>0.0</td>\n",
       "      <td>...</td>\n",
       "      <td>0.198314</td>\n",
       "      <td>0.0</td>\n",
       "      <td>0.0</td>\n",
       "      <td>0.0</td>\n",
       "      <td>0.0</td>\n",
       "      <td>0.0</td>\n",
       "      <td>0.0</td>\n",
       "      <td>0.0</td>\n",
       "      <td>0.0</td>\n",
       "      <td>0.0</td>\n",
       "    </tr>\n",
       "  </tbody>\n",
       "</table>\n",
       "<p>5 rows × 1494 columns</p>\n",
       "</div>"
      ],
      "text/plain": [
       "    가격  가까이   가끔   가능   가라   가면   가바   가방   가안   가왜  ...        획득   횟수  \\\n",
       "0  0.0  0.0  0.0  0.0  0.0  0.0  0.0  0.0  0.0  0.0  ...  0.000000  0.0   \n",
       "1  0.0  0.0  0.0  0.0  0.0  0.0  0.0  0.0  0.0  0.0  ...  0.000000  0.0   \n",
       "2  0.0  0.0  0.0  0.0  0.0  0.0  0.0  0.0  0.0  0.0  ...  0.000000  0.0   \n",
       "3  0.0  0.0  0.0  0.0  0.0  0.0  0.0  0.0  0.0  0.0  ...  0.000000  0.0   \n",
       "4  0.0  0.0  0.0  0.0  0.0  0.0  0.0  0.0  0.0  0.0  ...  0.198314  0.0   \n",
       "\n",
       "   횟수 초과   후회  휴대폰  흑기사   흑우   흥미   희귀   희망  \n",
       "0    0.0  0.0  0.0  0.0  0.0  0.0  0.0  0.0  \n",
       "1    0.0  0.0  0.0  0.0  0.0  0.0  0.0  0.0  \n",
       "2    0.0  0.0  0.0  0.0  0.0  0.0  0.0  0.0  \n",
       "3    0.0  0.0  0.0  0.0  0.0  0.0  0.0  0.0  \n",
       "4    0.0  0.0  0.0  0.0  0.0  0.0  0.0  0.0  \n",
       "\n",
       "[5 rows x 1494 columns]"
      ]
     },
     "execution_count": 101,
     "metadata": {},
     "output_type": "execute_result"
    }
   ],
   "source": [
    "tfidf_vec_df = pd.DataFrame(tfidfvector.toarray(), columns=features)\n",
    "tfidf_vec_df.head()"
   ]
  },
  {
   "cell_type": "code",
   "execution_count": 102,
   "metadata": {},
   "outputs": [
    {
     "data": {
      "text/plain": [
       "(11520, 1494)"
      ]
     },
     "execution_count": 102,
     "metadata": {},
     "output_type": "execute_result"
    }
   ],
   "source": [
    "tfidf_vec_df.shape"
   ]
  },
  {
   "cell_type": "code",
   "execution_count": 103,
   "metadata": {
    "pycharm": {
     "is_executing": false,
     "name": "#%%\n"
    }
   },
   "outputs": [],
   "source": [
    "#tfidf_vec_df.to_csv('tfidf_test.csv',index=False)"
   ]
  },
  {
   "cell_type": "code",
   "execution_count": 104,
   "metadata": {
    "pycharm": {
     "is_executing": false,
     "name": "#%%\n"
    }
   },
   "outputs": [
    {
     "name": "stdout",
     "output_type": "stream",
     "text": [
      "tf-idf 상위 50 token: \n",
      "해도        43.024357\n",
      "굿굿        43.289226\n",
      "마켓        43.840089\n",
      "코드        44.226413\n",
      "계정        45.163701\n",
      "해결        45.821506\n",
      "운영        46.210935\n",
      "환불        46.698385\n",
      "모바일       46.926909\n",
      "삭제        48.663805\n",
      "다이아       49.827482\n",
      "실행        50.198324\n",
      "다운로드      51.906394\n",
      "다운        57.349595\n",
      "확률        57.363793\n",
      "리니지m      60.688846\n",
      "자꾸        61.028290\n",
      "설치        61.709431\n",
      "서버        63.487855\n",
      "케릭        64.731549\n",
      "이벤트       65.558974\n",
      "과금 유도     65.995109\n",
      "에러        66.187697\n",
      "시작        67.943940\n",
      "결제        68.780206\n",
      "사람        69.577244\n",
      "시간        69.722175\n",
      "오류        77.210700\n",
      "영변        79.666306\n",
      "생각        79.811039\n",
      "아인        85.325131\n",
      "아이템       88.202252\n",
      "추억        94.116238\n",
      "엔씨        98.462531\n",
      "도박       102.219140\n",
      "최악       103.466293\n",
      "현질 유도    104.984156\n",
      "쓰레기      113.760267\n",
      "무과금      119.908289\n",
      "재미나      120.716432\n",
      "유저       125.297301\n",
      "사행성      128.710589\n",
      "유도       166.380668\n",
      "리니지      183.052507\n",
      "과금       207.393305\n",
      "접속       239.410820\n",
      "최고       246.256567\n",
      "재미       298.588722\n",
      "현질       335.911718\n",
      "업데이트     344.380065\n",
      "dtype: float64\n"
     ]
    }
   ],
   "source": [
    "max_tfidf = tfidf_vec_df.sum(axis=0).sort_values()\n",
    "print(\"tf-idf 상위 50 token: \\n{}\".format(max_tfidf[-50:]))"
   ]
  },
  {
   "cell_type": "markdown",
   "metadata": {
    "pycharm": {
     "name": "#%% md\n"
    }
   },
   "source": [
    "## Keyword in document"
   ]
  },
  {
   "cell_type": "code",
   "execution_count": 133,
   "metadata": {
    "pycharm": {
     "is_executing": false,
     "name": "#%%\n"
    },
    "scrolled": true
   },
   "outputs": [
    {
     "name": "stdout",
     "output_type": "stream",
     "text": [
      "keyword token ['아이']\n",
      "related documents : 16\n",
      "우오아이이 / tf-idf score : 1.0\n",
      "아이ㅔㅁ 만이 주삼 / tf-idf score : 1.0\n",
      "이게임을 망친건 아이탬컬렉션이다 / tf-idf score : 0.6725881710503244\n",
      "자신보다 랩 낮은 몹에겐 아이켐 드랍 안되게 해주세요 / tf-idf score : 0.6000813040257135\n",
      "기대치가 있는 갬으로 인식하고있습니다좋은아이탬습득으로 즐거운시간보내고싶내 요 / tf-idf score : 0.5999113861222174\n",
      "메크로밭이다 메크로때매 아이탬시세급락해버리고 사냥터점멸당해서몹이없는데 겜어케하라는거냐 / tf-idf score : 0.5703520198316525\n",
      "인첸트 성공율 아이탬 드랍율 이런거 좀 건들지 마라 짜식들아 / tf-idf score : 0.5581541954726532\n",
      "폰고장으로한동안접속못하다 폰바꾸고접속하니몇개의아이탬사라짐 이유가 먼가요 / tf-idf score : 0.41735806776342876\n",
      "소과금유저들도 아이탬좀 마출수있게 아이템드랍률좀 상향시켜주세요 ㅠㅠ / tf-idf score : 0.41094209140820087\n",
      "인영뽑기  몇백을질러도안나옴 똥망게임 ㅅㄱ요 마음을 가지고했는데 아이탬 성공더럽게안되고 내돈만날리고 개돼지됬네 망했으면 좋겠네요 리니지m ㅉㅉ앞으로 년뒤에 망함 미래에서 옴 / tf-idf score : 0.3860809915631145\n",
      "리니지 가있어서 정말 이지좋아여 하루하루 기대돼구 강화ㅠㅠ좀 힘들지만 ㅋㅋ재미있어여 ㅋ아이탬 난오는재미이두있구여 화이팅 운영자님그리고 리니지를사랕하는 모든분들 / tf-idf score : 0.3810478916683805\n",
      "거래는 년이 넘었는데 풀어지도 안을껄 뭐하러 만들었나요 어차피 각인아이탬거래 안될껀데 거래좀 풀어주셔요 / tf-idf score : 0.3434047458456307\n",
      "돈먹는하마아이정도만 쓰고 더쓰지말아야지하고 과금하고나면 바로 왜 여기에 과금했지라고 바로후회하게되는게임 / tf-idf score : 0.3314469341085854\n",
      "미성년 자녀 게임 결제유도 환불 안해주고 다변도없고 아이들 결제유도하게 하고 나몰라라하는거는 아니라고 봅니다 / tf-idf score : 0.31881094942956045\n",
      "여전하네 돈리지ㅋㅋ오랜만에 리뷰 읽어봤는데 변화가 없는거 같네 좀 틀려진게 있다면 유저들이 현질을 잘 안하니까 정액제 만들어서 꾸준히 뜯어 먹겠다는거ㅋㅋㅋ적당히좀 해라ㅎㅎ마이 뭇다 아이가ㅋ 주변에 아직 겜하는 사람이 있어서 가끔 다시 해볼까 라고 생각하다가도 한달에 폰요금 만원씩 내던거 생각하면 엄두를 못내겠네ㅋㅋ 리니지 접고 그돈으로 차 바껐다ㅎㅎㅎ 현복 년차의 진심담긴 한마디 어여 삭제해ㅎㅎㅎㅎ / tf-idf score : 0.24032126566766496\n",
      "그냥 돈으로 하는게임 아이템 드랍은 극악이고 이벤트 랍시고 하느건 현백 ㅡ백정도 아이템 판매 수단에불과 강화역시 극악뽑기조합 역시 극악 렙 넘어가면 아이값만 ㅡ만정도 현질 안하고 걍 즐기면 대져 하시는분들은 달도 못하고 대부분접음 막피강한혈들의 갑질 케릭간 다툼으로 인한 무필샤냥 터의 한계 / tf-idf score : 0.20997399060880073\n"
     ]
    }
   ],
   "source": [
    "srch=[t for t in tokenizer(\"아이\") if t in features]\n",
    "print(\"keyword token\" , srch)\n",
    "srch_dtm_tfidf = np.asarray(tfidfvector.toarray())[:, [\n",
    "    # vectorize.vocabulary_.get 는 특정 feature 가 dtm 에서 가지고 있는 index값을 리턴한다\n",
    "    tfidfvectorizer.vocabulary_.get(i) for i in srch]]\n",
    "temp_df = pd.DataFrame(srch_dtm_tfidf, columns=srch)\n",
    "temp_df = temp_df[(temp_df != 0).all(axis=1)] #하나의 token tf-idf값이 0이 있으면 제외\n",
    "search_score_tfidf = temp_df.sum(axis=1)\n",
    "print('related documents : {}'.format(len(search_score_tfidf)))\n",
    "for i,j in zip(search_score_tfidf.sort_values(ascending=False).index, search_score_tfidf.sort_values(ascending=False).values):\n",
    "    print('{} / tf-idf score : {}'.format(doc_to_mat[i], j))"
   ]
  },
  {
   "cell_type": "code",
   "execution_count": 106,
   "metadata": {
    "pycharm": {
     "is_executing": false,
     "name": "#%%\n"
    },
    "scrolled": true
   },
   "outputs": [
    {
     "name": "stdout",
     "output_type": "stream",
     "text": [
      "keyword token ['리니지', '현질']\n",
      "related documents : 46\n",
      "리니지 기사키우면서 사울아비장검강만들겠다고 수없이현질했고리니지오크타이탄키우면서드워프부케로내장비내가만들겠다고수없이현질했고아이온궁수키우면서 블소하면서 수없이현질했어도 그렇게게임했어도 이건아니었는데 왜 다운바다 에러뜨고 첨부터다시받고 그래도 옛 생각해서 꾹 참고 한번더한번더 하면서 다운받은게 시간째 입니다 결론은 어떻게할까요엔씨 택진님외 운영진분들 / token count : 5\n",
      "개 쓰레기게임으로바뀜 누구나 할수있는 그 자유를 누구나 할수없게 접어야만 하는게임 PC리니지 계정값보다 모바일리니지 아인값 몇배로비싸개 현질 호갱이들은 현질해서 일반유져 맨날죽이기만하고 그 유져는 리니지 더러워서접는다 케릭 키운시간과 그 고생이 아까워도 접는다  돈만  밝히지말고 망하기전에 빨리철들어라 머리는 쓰라고있다 아까운 인재들아 / token count : 5\n",
      "게임 최악 추억이라는 단어로 유져들 현혹시켜서 돈빼먹기만 하는 게임 드랍율 파템 보기도 힘드러 뽑기도 최악 반지 귀걸이 현질해야 강해지는게임 돈 은 쓴것도 아니게 되는 게임 이제 거래 교환 시스템은 말자체도 없음 캐릭밸런스도 똥망 추억이라는 부분으로 너희들 옛 리니지 돈벌때 추억인듯 하다 다른전계로 간다면서 리니지과 같은방향으로 가는중 이벤트는 현질이벤트 유저희롱하는이벤트만하고 개선해양할 아인시스템은 현질로 몇퍼감안 그게끝 내 인생 최고 쓰레기 게임 / token count : 5\n",
      "아인하사드의축복 압박 희귀템 드랍율 극악 현질을 한달 만원정도만 해도 할만하게 만들어놔야하는데 월 만원넘게 현질해야 할만하게 만들어놓으면 돈 없는 거지들은 게임도 하지말라는 소리인지 구 리니지 월원 시절로 돌려놓으면 절대 안되는건가 캐쉬템 없애고 개인거래 가능하고 월 원 외엔 돈 안들어가게 하는방법은 절대 없는것인가 아데나가 주 화폐가 되야하는게 리니지의 꽃 아니었던가 아데나는 그냥 소모품 사는데 사용되고 템 거래하려면 다이아로 사야하는이런 엿같은 경우가 어떻게 리니지인가\n",
      " / token count : 5\n",
      "이제 리니지M접었다 혈질만원에 남은건 싫망과 끝없는 과금유혹 법사 랩에 접는게 아쉽지만 더이상 미련두는건 미친 짓 비싸게 뮨배우고 아이스스파이크 배워도 법산 허접 테지천지 고투사 가더 날리고 흑롭 정리 이제 리니지 안함 랩이 올라도 아인충당안되고 변신합성 수없이 해도 영웅 안주네 변신에만만원 반지에만원 해도 이상 안뜨고 수호문장도 이상안뜸 끝없는 현질에 이젠 포기 공성전 해보구 혈에서 성도 먹어 봤는데 재미는 없음 오만에살아봐도 아템먹는건 없고 리니지추억에 시작했지만 이벤트 현질유도와 아인 충당안되\n",
      " / token count : 4\n",
      "다른분들도 느끼는겠지만 컴퓨터리니지게임보다현질드럽게유도하는게임언제부터이렇게돈만밝히는겜컴퓨터리니지게임보다현질드럽게유도하는게임언제부터이렇게돈만밝히는겜으로ㅉㅉ / token count : 4\n",
      "처음 개인거래 약속도 안지키고 리니지를 사랑하는건 대 대 인디 그나이때는 먹고 살기 다들 한창 바쁠때인디 현질유도 적당히들좀 하지  게임 운영을 이런식으로 하면 이건 리니지에 향수가 아니고 완전 다른게임인디 적당히 해라 오래가려면 적당히들좀 했으면 리니지 본썹만큼 오래 오래 가야하잖아 이건 치고 빠지는것 같아 이게 뭐니 / token count : 4\n",
      "별 반에반개는 왜없는가 모바일이든 pc든 모든게 현질게임 리니지 정말 질떨어진다 유저간 격차도 심하고 노가다를 하던 현질을하던 이게임은 쓰레기일뿐이다 돈에 눈멀어버린 NC / token count : 3\n",
      "현질없이는 못하는 리니지 돈독올른 리니지 / token count : 3\n",
      "돈없으면 못하는게임 어설프게 만원 현질해도 티도 안나는게임어느사냥터를 가든 재미 좀 보고 케릭을 성장 시킬려면 최소 천만원단위로 현질해야 될까말까한 그런 도박게임운영 개막장 갑질게임공지없는 잠수패치로 무소중과금 유저들 권리를 뺏아간 게임아덴드랍률하향아이템드랍률하향뽑기확률 확성확률 대폭하향아이템인첸성공률 하향각인주문서상자에서 축주문서 획득할 확률 대폭하향이벤트도 핵과금러들만을 위한 이벤트만 하는 게임엔씨 대표작 리니지란 게임을 한순간에 강원랜드 도박장보다 더 극심한 악의구렁텅이로\n",
      " / token count : 3\n",
      "그냥 이게임에 이벤트는없다 생각하세요 문의 할필요없어요 어차피 매크로 답변 옛추억리니지 그런거없어요 그냥 현질유도게임에 이벤트도없는 게임이라생각하시면되요 현질은 최소억 이벤트가 있다 그럼 그냥 없는걸로 치세요 이벤트템 주는거 아예없어요 사행성이 아니다 차라리 사행성 게임을하세요 이게임은 그냥 사기치는 게임입니다 못믿으시겠다 직접해보고 당해보세요 그럼ㅋ 확율 템먹을 자신있으시면요 / token count : 3\n",
      "아니 게임 맞나요 최소한 기본장비 고급 검 고급 셋으로 마추고 퀘스트를 돌라 하든지 퀘스트로 강화주문서랑 장비를 주든지 무슨 템도 퀘스트로 안주고 돈도 별로 안준걸로 최대한 스펙 쌓아서 퀘스트 깰라하면 몬스터한테 녹고 그몬스터 피해 다닌다도 개 날리를 쳐도 죽고 퀘스트 못깨고 현질하고 뭐 이런게임이 디있나요 퀘스트는 레벨이 올라갈수록 지역에서 사냥을 평균정도로 할수있을만한 템을 지급해주시고 다른 게임들 보고 배우시는게 바로 밑에있는 검은 사막은 현질이 자유라고 생각될정도에요 리니지에서는 희귀 영웅 등급의 장비를 주고 사\n",
      " / token count : 3\n",
      "추억의게임 리니지빰바빰바 음악만들어도 가슴설래이는 게임 리니지가 핸드폰으로도 가능하디니 좋으네요 욕심안부리고 남한데 맞아 죽어도 신경안쓰신분들은 괸찬은 게임이에요 근데 현질은 적당히 째끔만하세요 기본장비만 마춘다 생각하시고 그럼검파탬은 그냥 마춤니다 그리고자동돌리며 시간날때 조금씩 하시면 좋아요 예전에 호환마마등이 무서웠으나 현제엔 무분별한 인터넷게임이 우리를 병들게 하고 있읍니다 적당이 게임을 즐기시고 미래를 설계하시기 바랍니다 감사합니다 / token count : 3\n",
      "이런게임 왜 위임왜현질해요 완성도 최악의겜인데 옛날리니지 명성 으로 이어가는건대 현질만 유도하는게임 인데 솔직히 nc 이제 망해야됨 유정농락 넘심각해짐 꼬우면 하지말란식인데 제발 망했음좋겠다 / token count : 3\n",
      "리니지온라인할때생각하고 해봤는데 해도너무하네요 현질아님 뭐가안되니 그럴꺼연 월정액을받든지 너무현질이네요까지키우다포기하고접음 / token count : 3\n",
      "추억의 리니지 인생갓겜 입니다 정말현질유도 심하지만 대리만족 느낄수있어 좋습니다 더욱 발전해서 오래오래 갈수있는 리니지m 만들어주시길 진심 기원합니다 사랑합니다 리니지개발자그리구 관리운영진 여러분♥♥♥택진이형두요 / token count : 3\n",
      "저도 리니지게임많이좋아하고 하고싶어하는 유저입니다 제가 지금 현질만천만원넘게하고접어는데 그래도 접어도 하고싶어죽겟습니다 현질적당히 하고 할수잇게해주면 안되나요 / token count : 3\n",
      "무과금으로 찍었는데 솔직하게 과금할필요없어요 옛 향수그대로 느끼면되고 죽이면베르하면되고 죽인새끼잡아야겟다고 현질하면 더쌘놈이와서 죽이니까 애초에 그런생각가지고 현질할필요없음 그냥 꾸준히 아인모아가면서 노는폰하나 리니지만꾸준히 돌린다생각하면됨 에 데블 축무관 마투 마망 완부 돌장 각반 무방 오벨 모두 각인 ㅋㅋㅋㅋㅋ 악세 룬없음 다이아는지금 만개가량있어요 무과금입니다 데포 섭 입니다 / token count : 3\n",
      "가면갈수록 오류 패치 수정부분체크사항이 느리고 현질을유도해 사람들을 절망으로 치닫게하는 이리니지에는 왠만하면 돈투자하지말것 / token count : 2\n",
      "그냥 모든게 다 최악이네 현질유도 그어떤게임보다 심하고 예전 피씨 리니지보다 더 최악 유저간거래도 게임 런칭때부터 추후 업데이트 된다 해놓고 년이넘도록 업데이트하나없고 아이폰은 거래소도안되고 점검은 했다하면 다시 재점검에 무슨 엔시라는 기업에서 운영하는게 맞기는 한건지유저 상대로 사기치는게임 / token count : 2\n",
      "절대 하지마라본인이 금수저 이거나 월 천만원 이상 벌면 해도 되고나도 월 천만원 버는데 버거운 게임이 리니지다 현질유도 너무 심하다 / token count : 2\n",
      "비단 해당게임뿐만 아니라 이 기업은 사회악이 되는 행위를 많이하는것 같습니다 강요에 가까운 유료아이템 끼워팔기 부터 이 경우 이것을 안사려면 리니지 시스템상 게임을 안하시는게 정신건강에 이롭습니다 요구하는 현질의 규모가 상상을 초월합니다ㅋㅋ 무과금으로 하겠다구요 과금러뿐만 아니라 무과금 유저에게도 가만두지 않고 끊임없는 강제성 상품을 들이밉니다 사람들의 소득이 건전한 소비 이를테면 국가 기간산업 제조생산업 외에 대한 소비 를 통해 기업은 발전을 하며 성공하는 기업들은 채용을 늘리고 채용을 통한 근로 소득이 \n",
      " / token count : 2\n",
      "현질 유도만 아니면 정말 좋은 리니지 / token count : 2\n",
      "돈 없으면 리니지 하지마세요 그게 답입니다뭐가 어쩌고 저쩌고 그게 다 현질이 답이니깐요 / token count : 2\n",
      "흠솔직히 이겜은 심각한 사행성 도박겜이네요 현질유도를 암만 겜이라지만 겜에 몇천만 몇억씩 처넣는 게임 몇십만 몇백만 써도 티가 안나는 게임 리니지 인거 같습니다 어쩜 뽑기 합성 이렇게 최악일수가 있습니까 희귀 지나고 일반 나오면 급브레이크 미치겠넹 ㅋ 겜은 도박아니고 즐길수 있는 겜으로 만드세요 김택진씨 돈만 밝히지 마시구요 / token count : 2\n",
      "말이많은 게임이지만 정액비 낸다 생각하며 현질적당히하면서 겜하기엔 최고인듯싶어요 년부터 년작년까지 리니지를 하다 접다 하다 접다 수많은 추억을 폰으로 접할수있어서 즐겁습니다 개판운영만 하지않으시길 / token count : 2\n",
      "리니지는 현질이 갑입니다 / token count : 2\n",
      "현질안하면 게임진행이 안된다는말 그냥 무과금의 하소연이라 생각했는데 모든 요소요소 마다 돈쓰라고 강요하고있는 놀이동산 갔더니 입장권만 산 인간은 사람취급도 안하는 모양새군요 명불허전 리니지 십년두 더 된 세월에두 재밌다가도 명불허전 엔씨의 대단한 운영정책에 기가찹니다 / token count : 2\n",
      "제가해본게임들은많지만 리니지가젤괜찮은게임같네요 현질만아니면 / token count : 2\n",
      "차라리 피씨 리니지가 왜 게임들이 전부 모바일로 넘어가면 현질유도만 겁나하지 돈 벌어야 하는건 알겠는데 정도가 / token count : 2\n",
      "리니지란 게임을 컴퓨터가 아니고 폰으로 처음 해보는데 리뷰마다 댓글 다남겨주며 열심히하는데 재밌게 하면대지 현질안해가 재미 없으면 다른게임 하면 대는거 아니겠습니까 게임하면서 랭킹올리고 좋은템 사끼면 튀어보이는거고 돋보이는거 모든게임 다똑같은데 세상쉽게쉽게 살아가렵니다 여가시간생기면 합니다 할만합니다 / token count : 2\n",
      "감히 현질없이 리니지를 하려해 돈이없다면 테트리스를 하거라byNC / token count : 2\n",
      "대학시절 옛 향수에 취해 리니지를 다시 해봤는데 추억 돋네요  개인적으로 과금 컨텐츠 만드신분께 박수를 보냅니다 참 머리를 많이 쓰신 흔적이 보입니다 비아냥 아님 전 이제 게임 현질보다는 엔씨 주식을 사서 투자하는 평범한 린저씨가 됐네요 근데 한마디만 하자면 과금 유저에게 큰 혜택을 부여하는건 당연히 이해합니다 하지만 무과금 유저들은 레벨이 오르면서 아인을 얻지 못해 게임을 접는 현상들이 많이 보입니다 이 부분은 엔씨에서 느끼고 있을거구요 특히 사이클이 짧은 모바일게임 특성상 지금과 같은 운영으로는 한계가 있\n",
      " / token count : 2\n",
      "리니지 처음해보는데 완전 똑같이 만들었네요 괜찮은듯 하지만 현질아니면 하기 힘든게임이네요 / token count : 2\n",
      "이제 엔씨게임은 옛추억이라곤 하나도없네 오로직 사행성 현금이 없으면 즐길수있는방도가 없는 게임으로  리니지 즐겨했던 유저로써 기대도안되네 이제는 모바일중에 최악 현질없이는 할수없는 리니지M 추억을위한 용사들이여 떠나라ㅡㅡ / token count : 2\n",
      "제발 출첵보상 이어지게 업데이트해주세요ㅡㅡ 마지막보상 받을려고 열심히 접속하는데 초기화시키는건 뭡니까 그럴꺼면 한달치로 하지말던지 저번도그러고 이번도 그러고 현질해서 사서쓰라는 의도인가요 역겹네요엔씨 작작쳐 해드세요 운영그딴식으로하면 사람들 다떠납니다 이것말고도 말할껀 참 많은데 어차피 고쳐지진 않을꺼같네요 리니지를 좋아하고 열심히하는 유저로써 참 안타깝습니다 / token count : 2\n",
      "Pc리니지도 마찬가지고 현질없이는 할수없는게임 그만 종료해라 레기소리 더이상 듣기싫으면 / token count : 2\n",
      "돈많은사람을위해만든게임 순수함이라곤도없고 오로지유저돈만빨아먹을려는 비제이도지쳐서접는다는 그전설의게임 현질안하면아예겜자체를못하게막아놈 ㅋㅋㅋ 전설의 돈지배자 리니지라쓰고빠찡꼬라읽는다 / token count : 2\n",
      "현질유도 리니지마카오 / token count : 2\n",
      "현질유도완전심함 부자들만하는게임아인하사드없이못하는게임답글에 또 항상고객님을 최우선하는리니지 가되겠다고 노력중 이상한소리 남기지마시오 / token count : 2\n",
      "메티스의 특별한 초대 기간에 못했었는데 그럼 아예 끝난건가요 일부러 리니지계정을 삭제한것도아니고 그저 페북 삭제하려고 하다가 그런건데  방법이 없나 여쭤보고싶습니다 도와주세요ㅠㅠ나름 처음 현질한 게임이여서 잘 키워보려했는데 / token count : 2\n",
      "솔직하게 재미있기는하다 단 무과금으론 못한다 어느정도 현질은 그냥 재미로 키우는거면 가능하다 랭커들고 싸움하는 리니지할려면 투자하면 가능하다 / token count : 2\n",
      "현질 없이는 사냥도 힘들고 변신뽑기도 고급 합성으로 희귀뽑기도 힘든데 영웅은 말 다 했지 그냥 안하는게 답이거나 본인 월급에서 월 십일조 리니지에 결제해야됨 / token count : 2\n",
      "리니지했을때 생각하면서 하는데 역시 현질을 부르내요 / token count : 2\n",
      "막피가 불법은 아니지만 비매너막피때문에 겜을 할 수가 없음 꼬우면 현질해서 강해지라는데 라이트 유저가 자동사냥 돌리는데 장비 올리면 뭐함 안죽고 자동사냥 할려면 매크로 쓰는 방법밖에 없는데 그건 불법이고 게다가 매크로 신고해봤자 제재도 안함 렙 찍고 데스 변신하면서 PC 리니지 생각도 나서 한번 진득하게 해보려다 막피땜시 울화통만 터지고 겜 삭제 / token count : 2\n",
      "여전하네 돈리지ㅋㅋ오랜만에 리뷰 읽어봤는데 변화가 없는거 같네 좀 틀려진게 있다면 유저들이 현질을 잘 안하니까 정액제 만들어서 꾸준히 뜯어 먹겠다는거ㅋㅋㅋ적당히좀 해라ㅎㅎ마이 뭇다 아이가ㅋ 주변에 아직 겜하는 사람이 있어서 가끔 다시 해볼까 라고 생각하다가도 한달에 폰요금 만원씩 내던거 생각하면 엄두를 못내겠네ㅋㅋ 리니지 접고 그돈으로 차 바껐다ㅎㅎㅎ 현복 년차의 진심담긴 한마디 어여 삭제해ㅎㅎㅎㅎ / token count : 2\n"
     ]
    }
   ],
   "source": [
    "srch=[t for t in tokenizer(\"리니지 현질\") if t in features]\n",
    "print(\"keyword token\" , srch)\n",
    "srch_dtm_cnt = np.asarray(doc_to_vec.toarray())[:, [\n",
    "    # vectorize.vocabulary_.get 는 특정 feature 가 dtm 에서 가지고 있는 index값을 리턴한다\n",
    "    vectorizer.vocabulary_.get(i) for i in srch]]\n",
    "temp_df = pd.DataFrame(srch_dtm_cnt, columns=srch)\n",
    "temp_df = temp_df[(temp_df != 0).all(axis=1)] #하나의 token count 값이 0이 있으면 제외\n",
    "search_score_cnt = temp_df.sum(axis=1)\n",
    "print('related documents : {}'.format(len(search_score_cnt)))\n",
    "for i,j in zip(search_score_cnt.sort_values(ascending=False).index, search_score_cnt.sort_values(ascending=False).values):    \n",
    "    print('{} / token count : {}'.format(doc_to_mat[i], j))"
   ]
  },
  {
   "cell_type": "markdown",
   "metadata": {},
   "source": [
    "## Word2vec"
   ]
  },
  {
   "cell_type": "raw",
   "metadata": {},
   "source": [
    "from ckonlpy.tag import Postprocessor\n",
    "twitter = Twitter(use_twitter_dictionary=False)\n",
    "twitter.add_dictionary(['사행성','리니지m', '핵과금', '무과금','가챠'], 'Noun') #명사 추가 사전\n",
    "twitter.add_dictionary(['갑자기','이제','다시', '계속', '역시', '지금'], 'Adverb') #명사 -> 부사 사전 \n",
    "stopwords = [\"이다\", \"있다\", '진짜', '입니다', '게임','아니','하나', '정말',' 계속','그냥']\n",
    "replace = {'잼': '재미'} #단어 대체 사전\n",
    "postprocessor = Postprocessor(twitter, replace = replace, passtags = ['Noun']) #여러 품사 중 명사만 통과시킴"
   ]
  },
  {
   "cell_type": "raw",
   "metadata": {},
   "source": [
    "def sentence_morph2(text):\n",
    "    tokenlist = postprocessor.pos(text) # 단어 토큰화\n",
    "    temp=[]\n",
    "    for word in tokenlist:\n",
    "        if (len(word[0]) > 1) & (word[0] not in stopwords): #option\n",
    "            temp.append((word[0])) # 해당 단어를 저장함\n",
    "    return temp"
   ]
  },
  {
   "cell_type": "raw",
   "metadata": {},
   "source": [
    "sentence_token2 = df['review_txt'].apply(sentence_morph2)"
   ]
  },
  {
   "cell_type": "code",
   "execution_count": 108,
   "metadata": {},
   "outputs": [],
   "source": [
    "def sentence_morph(text):\n",
    "    return [token for token in twitter.nouns(text) if token not in stopwords and len(token) > 1]"
   ]
  },
  {
   "cell_type": "code",
   "execution_count": 109,
   "metadata": {},
   "outputs": [],
   "source": [
    "sentence_token = list(df['review_txt'].apply(tokenizer))"
   ]
  },
  {
   "cell_type": "code",
   "execution_count": 110,
   "metadata": {},
   "outputs": [],
   "source": [
    "from gensim.models import Word2Vec\n",
    "embedding_model = Word2Vec(sentence_token, size=128, window = 2, min_count=10, workers=4, iter=100, sg=1)"
   ]
  },
  {
   "cell_type": "markdown",
   "metadata": {},
   "source": [
    "## Word Similarity using word2vec"
   ]
  },
  {
   "cell_type": "code",
   "execution_count": 111,
   "metadata": {},
   "outputs": [
    {
     "name": "stdout",
     "output_type": "stream",
     "text": [
      "[('무과금', 0.4899408221244812),\n",
      " ('백만원', 0.46916142106056213),\n",
      " ('현질', 0.44003361463546753),\n",
      " ('유저', 0.42825180292129517),\n",
      " ('돈질', 0.42450809478759766),\n",
      " ('팔이', 0.4135568141937256),\n",
      " ('과도', 0.3784641921520233),\n",
      " ('천만원', 0.3775039315223694),\n",
      " ('역대', 0.3726485073566437),\n",
      " ('과금러', 0.3683569133281708),\n",
      " ('필요', 0.3552153408527374),\n",
      " ('굿굿', 0.3519003391265869),\n",
      " ('돈빨', 0.34799396991729736),\n",
      " ('최강', 0.34346649050712585),\n",
      " ('유도', 0.34242987632751465),\n",
      " ('강원랜드', 0.34097686409950256),\n",
      " ('득템', 0.3369768261909485),\n",
      " ('컨텐츠', 0.33562320470809937),\n",
      " ('대한민국', 0.3327663838863373),\n",
      " ('아이', 0.3294559121131897),\n",
      " ('만족', 0.3284635543823242),\n",
      " ('단위', 0.32645702362060547),\n",
      " ('재미', 0.31954917311668396),\n",
      " ('데이', 0.31891077756881714),\n",
      " ('전설', 0.3177226185798645),\n",
      " ('이면', 0.3153441846370697),\n",
      " ('사실', 0.3151995837688446),\n",
      " ('끝판', 0.314733624458313),\n",
      " ('도박장', 0.3141540288925171),\n",
      " ('막장', 0.31339091062545776),\n",
      " ('방어', 0.31235969066619873),\n",
      " ('카지노', 0.3096475899219513),\n",
      " ('취급', 0.3095318675041199),\n",
      " ('거의', 0.3076518177986145),\n",
      " ('마음', 0.3066701292991638),\n",
      " ('핵과금', 0.3047667145729065),\n",
      " ('존재', 0.30410337448120117),\n",
      " ('이익', 0.30294129252433777),\n",
      " ('매우', 0.30266016721725464),\n",
      " ('사냥터', 0.3022337555885315),\n",
      " ('필수', 0.30124711990356445),\n",
      " ('양심', 0.30110782384872437),\n",
      " ('평점', 0.2995424270629883),\n",
      " ('통제', 0.2965962886810303),\n",
      " ('위해', 0.2959091067314148),\n",
      " ('하자', 0.29532769322395325),\n",
      " ('한게임', 0.2948988378047943),\n",
      " ('서민', 0.29352954030036926),\n",
      " ('사행성', 0.2934352159500122),\n",
      " ('먹기', 0.2926470637321472)]\n"
     ]
    },
    {
     "name": "stderr",
     "output_type": "stream",
     "text": [
      "C:\\ProgramData\\Anaconda3\\lib\\site-packages\\ipykernel_launcher.py:2: DeprecationWarning: Call to deprecated `most_similar` (Method will be removed in 4.0.0, use self.wv.most_similar() instead).\n",
      "  \n"
     ]
    }
   ],
   "source": [
    "# 특정 token(위의 case는 명사)과 가장 유사도가 큰 토큰 50개를 도출\n",
    "pprint.pprint(embedding_model.most_similar(positive=[\"과금\"], topn=50))"
   ]
  },
  {
   "cell_type": "code",
   "execution_count": 112,
   "metadata": {},
   "outputs": [],
   "source": [
    "import gensim\n",
    "embedding_model.wv.save_word2vec_format('w2v.txt')"
   ]
  },
  {
   "cell_type": "code",
   "execution_count": 113,
   "metadata": {},
   "outputs": [
    {
     "name": "stdout",
     "output_type": "stream",
     "text": [
      "622\n"
     ]
    }
   ],
   "source": [
    "word_vectors = embedding_model.wv\n",
    "vocabs = word_vectors.vocab.keys()\n",
    "print(len(vocabs))"
   ]
  },
  {
   "cell_type": "code",
   "execution_count": 114,
   "metadata": {},
   "outputs": [
    {
     "name": "stderr",
     "output_type": "stream",
     "text": [
      "C:\\ProgramData\\Anaconda3\\lib\\site-packages\\ipykernel_launcher.py:1: DeprecationWarning: Call to deprecated `syn0` (Attribute will be removed in 4.0.0, use self.vectors instead).\n",
      "  \"\"\"Entry point for launching an IPython kernel.\n"
     ]
    }
   ],
   "source": [
    "index = gensim.similarities.MatrixSimilarity(gensim.matutils.Dense2Corpus(embedding_model.wv.syn0.T))"
   ]
  },
  {
   "cell_type": "code",
   "execution_count": 115,
   "metadata": {},
   "outputs": [
    {
     "name": "stderr",
     "output_type": "stream",
     "text": [
      "C:\\ProgramData\\Anaconda3\\lib\\site-packages\\ipykernel_launcher.py:1: DeprecationWarning: Call to deprecated `syn0norm` (Attribute will be removed in 4.0.0, use self.vectors_norm instead).\n",
      "  \"\"\"Entry point for launching an IPython kernel.\n"
     ]
    }
   ],
   "source": [
    "similarity_matrix = np.dot(embedding_model.wv.syn0norm, embedding_model.wv.syn0norm.T) # word2vec similarity matrix"
   ]
  },
  {
   "cell_type": "code",
   "execution_count": 116,
   "metadata": {},
   "outputs": [
    {
     "data": {
      "text/plain": [
       "array([[0.99999964, 0.14404704, 0.34070402, ..., 0.12920102, 0.00162639,\n",
       "        0.38444567],\n",
       "       [0.14404704, 1.0000001 , 0.15175502, ..., 0.18107417, 0.29194683,\n",
       "        0.1408795 ],\n",
       "       [0.34070402, 0.15175502, 0.9999998 , ..., 0.19583984, 0.01533977,\n",
       "        0.3608687 ],\n",
       "       ...,\n",
       "       [0.12920102, 0.18107417, 0.19583984, ..., 1.0000001 , 0.2819604 ,\n",
       "        0.35542768],\n",
       "       [0.00162639, 0.29194683, 0.01533977, ..., 0.2819604 , 1.        ,\n",
       "        0.20162211],\n",
       "       [0.38444567, 0.1408795 , 0.3608687 , ..., 0.35542768, 0.20162211,\n",
       "        0.9999998 ]], dtype=float32)"
      ]
     },
     "execution_count": 116,
     "metadata": {},
     "output_type": "execute_result"
    }
   ],
   "source": [
    "similarity_matrix"
   ]
  },
  {
   "cell_type": "code",
   "execution_count": 117,
   "metadata": {},
   "outputs": [],
   "source": [
    "def term_freq(doc):\n",
    "    doc_dict = {}\n",
    "    for term in list(vocabs):\n",
    "        doc_dict[term] = doc.count(term)\n",
    "    return doc_dict\n",
    "\n",
    "tdm_list = list(df['review_txt'].apply(term_freq))"
   ]
  },
  {
   "cell_type": "code",
   "execution_count": 118,
   "metadata": {},
   "outputs": [],
   "source": [
    "tdm = pd.DataFrame.from_dict(tdm_list).fillna(0)"
   ]
  },
  {
   "cell_type": "code",
   "execution_count": 119,
   "metadata": {},
   "outputs": [],
   "source": [
    "tdm = tdm.loc[:,list(vocabs)]"
   ]
  },
  {
   "cell_type": "code",
   "execution_count": 120,
   "metadata": {},
   "outputs": [
    {
     "data": {
      "text/html": [
       "<div>\n",
       "<style scoped>\n",
       "    .dataframe tbody tr th:only-of-type {\n",
       "        vertical-align: middle;\n",
       "    }\n",
       "\n",
       "    .dataframe tbody tr th {\n",
       "        vertical-align: top;\n",
       "    }\n",
       "\n",
       "    .dataframe thead th {\n",
       "        text-align: right;\n",
       "    }\n",
       "</style>\n",
       "<table border=\"1\" class=\"dataframe\">\n",
       "  <thead>\n",
       "    <tr style=\"text-align: right;\">\n",
       "      <th></th>\n",
       "      <th>핵과금</th>\n",
       "      <th>엔씨</th>\n",
       "      <th>전설</th>\n",
       "      <th>과금</th>\n",
       "      <th>패키지</th>\n",
       "      <th>도전</th>\n",
       "      <th>영변</th>\n",
       "      <th>무과금</th>\n",
       "      <th>다이야</th>\n",
       "      <th>만원</th>\n",
       "      <th>...</th>\n",
       "      <th>팔고</th>\n",
       "      <th>음악</th>\n",
       "      <th>전체</th>\n",
       "      <th>린지</th>\n",
       "      <th>과금러</th>\n",
       "      <th>대한민국</th>\n",
       "      <th>리소스</th>\n",
       "      <th>선물</th>\n",
       "      <th>굿잡</th>\n",
       "      <th>중단</th>\n",
       "    </tr>\n",
       "  </thead>\n",
       "  <tbody>\n",
       "    <tr>\n",
       "      <th>0</th>\n",
       "      <td>2</td>\n",
       "      <td>1</td>\n",
       "      <td>2</td>\n",
       "      <td>7</td>\n",
       "      <td>2</td>\n",
       "      <td>1</td>\n",
       "      <td>1</td>\n",
       "      <td>1</td>\n",
       "      <td>1</td>\n",
       "      <td>1</td>\n",
       "      <td>...</td>\n",
       "      <td>0</td>\n",
       "      <td>0</td>\n",
       "      <td>0</td>\n",
       "      <td>0</td>\n",
       "      <td>0</td>\n",
       "      <td>0</td>\n",
       "      <td>0</td>\n",
       "      <td>0</td>\n",
       "      <td>0</td>\n",
       "      <td>0</td>\n",
       "    </tr>\n",
       "    <tr>\n",
       "      <th>1</th>\n",
       "      <td>0</td>\n",
       "      <td>0</td>\n",
       "      <td>0</td>\n",
       "      <td>0</td>\n",
       "      <td>0</td>\n",
       "      <td>0</td>\n",
       "      <td>0</td>\n",
       "      <td>0</td>\n",
       "      <td>0</td>\n",
       "      <td>0</td>\n",
       "      <td>...</td>\n",
       "      <td>0</td>\n",
       "      <td>0</td>\n",
       "      <td>0</td>\n",
       "      <td>0</td>\n",
       "      <td>0</td>\n",
       "      <td>0</td>\n",
       "      <td>0</td>\n",
       "      <td>0</td>\n",
       "      <td>0</td>\n",
       "      <td>0</td>\n",
       "    </tr>\n",
       "    <tr>\n",
       "      <th>2</th>\n",
       "      <td>0</td>\n",
       "      <td>0</td>\n",
       "      <td>0</td>\n",
       "      <td>0</td>\n",
       "      <td>0</td>\n",
       "      <td>0</td>\n",
       "      <td>0</td>\n",
       "      <td>0</td>\n",
       "      <td>0</td>\n",
       "      <td>0</td>\n",
       "      <td>...</td>\n",
       "      <td>0</td>\n",
       "      <td>0</td>\n",
       "      <td>0</td>\n",
       "      <td>0</td>\n",
       "      <td>0</td>\n",
       "      <td>0</td>\n",
       "      <td>0</td>\n",
       "      <td>0</td>\n",
       "      <td>0</td>\n",
       "      <td>0</td>\n",
       "    </tr>\n",
       "    <tr>\n",
       "      <th>3</th>\n",
       "      <td>0</td>\n",
       "      <td>0</td>\n",
       "      <td>0</td>\n",
       "      <td>0</td>\n",
       "      <td>0</td>\n",
       "      <td>0</td>\n",
       "      <td>0</td>\n",
       "      <td>0</td>\n",
       "      <td>0</td>\n",
       "      <td>0</td>\n",
       "      <td>...</td>\n",
       "      <td>0</td>\n",
       "      <td>0</td>\n",
       "      <td>0</td>\n",
       "      <td>0</td>\n",
       "      <td>0</td>\n",
       "      <td>0</td>\n",
       "      <td>0</td>\n",
       "      <td>0</td>\n",
       "      <td>0</td>\n",
       "      <td>0</td>\n",
       "    </tr>\n",
       "    <tr>\n",
       "      <th>4</th>\n",
       "      <td>0</td>\n",
       "      <td>0</td>\n",
       "      <td>0</td>\n",
       "      <td>0</td>\n",
       "      <td>0</td>\n",
       "      <td>0</td>\n",
       "      <td>0</td>\n",
       "      <td>0</td>\n",
       "      <td>0</td>\n",
       "      <td>0</td>\n",
       "      <td>...</td>\n",
       "      <td>0</td>\n",
       "      <td>0</td>\n",
       "      <td>0</td>\n",
       "      <td>0</td>\n",
       "      <td>0</td>\n",
       "      <td>0</td>\n",
       "      <td>0</td>\n",
       "      <td>0</td>\n",
       "      <td>0</td>\n",
       "      <td>0</td>\n",
       "    </tr>\n",
       "  </tbody>\n",
       "</table>\n",
       "<p>5 rows × 622 columns</p>\n",
       "</div>"
      ],
      "text/plain": [
       "   핵과금  엔씨  전설  과금  패키지  도전  영변  무과금  다이야  만원  ...  팔고  음악  전체  린지  과금러  대한민국  \\\n",
       "0    2   1   2   7    2   1   1    1    1   1  ...   0   0   0   0    0     0   \n",
       "1    0   0   0   0    0   0   0    0    0   0  ...   0   0   0   0    0     0   \n",
       "2    0   0   0   0    0   0   0    0    0   0  ...   0   0   0   0    0     0   \n",
       "3    0   0   0   0    0   0   0    0    0   0  ...   0   0   0   0    0     0   \n",
       "4    0   0   0   0    0   0   0    0    0   0  ...   0   0   0   0    0     0   \n",
       "\n",
       "   리소스  선물  굿잡  중단  \n",
       "0    0   0   0   0  \n",
       "1    0   0   0   0  \n",
       "2    0   0   0   0  \n",
       "3    0   0   0   0  \n",
       "4    0   0   0   0  \n",
       "\n",
       "[5 rows x 622 columns]"
      ]
     },
     "execution_count": 120,
     "metadata": {},
     "output_type": "execute_result"
    }
   ],
   "source": [
    "tdm.head()"
   ]
  },
  {
   "cell_type": "code",
   "execution_count": 121,
   "metadata": {},
   "outputs": [
    {
     "data": {
      "text/plain": [
       "'핵과금 엔씨 주 수입원신화 전설  Limit 중과금 패키지  전설템 도전하는분  소과금 영변 무관or 신관  극소과금 용옥  혜자  무과금 있는 다이야로 혜자패키지만 사는분  cf숫자는 만원 기준 리니지수입에 큰 부분이 확률형 아이템으로 알고 있습니다 수입이 큰 목적이기에 할수밖에없는거 그래서 핵과금 유저 위주에 상품이 많은거 작업장 잡아주시고 용옥 로 하고 극소과금 유저들 잡는것도 게임을 오래가게 하는 방법이지 않을까 건의해봅니다 현재 리세하는 사람 \\n'"
      ]
     },
     "execution_count": 121,
     "metadata": {},
     "output_type": "execute_result"
    }
   ],
   "source": [
    "df['review_txt'][0]"
   ]
  },
  {
   "cell_type": "code",
   "execution_count": 122,
   "metadata": {},
   "outputs": [
    {
     "data": {
      "text/plain": [
       "622"
      ]
     },
     "execution_count": 122,
     "metadata": {},
     "output_type": "execute_result"
    }
   ],
   "source": [
    "len(tdm.columns)"
   ]
  },
  {
   "cell_type": "code",
   "execution_count": 123,
   "metadata": {},
   "outputs": [],
   "source": [
    "similarity_matrix_df = pd.DataFrame(similarity_matrix, index=list(vocabs), columns = list(vocabs))"
   ]
  },
  {
   "cell_type": "code",
   "execution_count": 124,
   "metadata": {},
   "outputs": [
    {
     "data": {
      "text/plain": [
       "(622, 622)"
      ]
     },
     "execution_count": 124,
     "metadata": {},
     "output_type": "execute_result"
    }
   ],
   "source": [
    "similarity_matrix_df.shape"
   ]
  },
  {
   "cell_type": "code",
   "execution_count": 125,
   "metadata": {},
   "outputs": [
    {
     "data": {
      "text/plain": [
       "(11520, 622)"
      ]
     },
     "execution_count": 125,
     "metadata": {},
     "output_type": "execute_result"
    }
   ],
   "source": [
    "tdm.shape"
   ]
  },
  {
   "cell_type": "code",
   "execution_count": 126,
   "metadata": {},
   "outputs": [],
   "source": [
    "word2vec_doc_score = np.dot(similarity_matrix_df.values, tdm.values.T)"
   ]
  },
  {
   "cell_type": "code",
   "execution_count": 127,
   "metadata": {},
   "outputs": [
    {
     "data": {
      "text/html": [
       "<div>\n",
       "<style scoped>\n",
       "    .dataframe tbody tr th:only-of-type {\n",
       "        vertical-align: middle;\n",
       "    }\n",
       "\n",
       "    .dataframe tbody tr th {\n",
       "        vertical-align: top;\n",
       "    }\n",
       "\n",
       "    .dataframe thead th {\n",
       "        text-align: right;\n",
       "    }\n",
       "</style>\n",
       "<table border=\"1\" class=\"dataframe\">\n",
       "  <thead>\n",
       "    <tr style=\"text-align: right;\">\n",
       "      <th></th>\n",
       "      <th>핵과금</th>\n",
       "      <th>엔씨</th>\n",
       "      <th>전설</th>\n",
       "      <th>과금</th>\n",
       "      <th>패키지</th>\n",
       "      <th>도전</th>\n",
       "      <th>영변</th>\n",
       "      <th>무과금</th>\n",
       "      <th>다이야</th>\n",
       "      <th>만원</th>\n",
       "      <th>...</th>\n",
       "      <th>팔고</th>\n",
       "      <th>음악</th>\n",
       "      <th>전체</th>\n",
       "      <th>린지</th>\n",
       "      <th>과금러</th>\n",
       "      <th>대한민국</th>\n",
       "      <th>리소스</th>\n",
       "      <th>선물</th>\n",
       "      <th>굿잡</th>\n",
       "      <th>중단</th>\n",
       "    </tr>\n",
       "  </thead>\n",
       "  <tbody>\n",
       "    <tr>\n",
       "      <th>핵과금</th>\n",
       "      <td>1.000000</td>\n",
       "      <td>0.144047</td>\n",
       "      <td>0.340704</td>\n",
       "      <td>0.080649</td>\n",
       "      <td>0.065264</td>\n",
       "      <td>0.140574</td>\n",
       "      <td>-0.027476</td>\n",
       "      <td>0.087434</td>\n",
       "      <td>0.201502</td>\n",
       "      <td>0.070471</td>\n",
       "      <td>...</td>\n",
       "      <td>0.228705</td>\n",
       "      <td>0.207929</td>\n",
       "      <td>0.245433</td>\n",
       "      <td>0.322737</td>\n",
       "      <td>0.210439</td>\n",
       "      <td>0.074546</td>\n",
       "      <td>0.370858</td>\n",
       "      <td>0.129201</td>\n",
       "      <td>0.001626</td>\n",
       "      <td>0.384446</td>\n",
       "    </tr>\n",
       "    <tr>\n",
       "      <th>엔씨</th>\n",
       "      <td>0.144047</td>\n",
       "      <td>1.000000</td>\n",
       "      <td>0.151755</td>\n",
       "      <td>0.440034</td>\n",
       "      <td>0.082556</td>\n",
       "      <td>0.085311</td>\n",
       "      <td>0.505020</td>\n",
       "      <td>0.215455</td>\n",
       "      <td>0.261913</td>\n",
       "      <td>0.300944</td>\n",
       "      <td>...</td>\n",
       "      <td>0.090653</td>\n",
       "      <td>0.319214</td>\n",
       "      <td>0.159275</td>\n",
       "      <td>0.188370</td>\n",
       "      <td>0.067779</td>\n",
       "      <td>0.289480</td>\n",
       "      <td>0.065390</td>\n",
       "      <td>0.181074</td>\n",
       "      <td>0.291947</td>\n",
       "      <td>0.140879</td>\n",
       "    </tr>\n",
       "    <tr>\n",
       "      <th>전설</th>\n",
       "      <td>0.340704</td>\n",
       "      <td>0.151755</td>\n",
       "      <td>1.000000</td>\n",
       "      <td>0.096488</td>\n",
       "      <td>0.100877</td>\n",
       "      <td>0.118214</td>\n",
       "      <td>0.077159</td>\n",
       "      <td>-0.046139</td>\n",
       "      <td>0.018847</td>\n",
       "      <td>0.079208</td>\n",
       "      <td>...</td>\n",
       "      <td>0.204659</td>\n",
       "      <td>0.155009</td>\n",
       "      <td>0.290261</td>\n",
       "      <td>0.359609</td>\n",
       "      <td>0.068693</td>\n",
       "      <td>0.163291</td>\n",
       "      <td>0.264394</td>\n",
       "      <td>0.195840</td>\n",
       "      <td>0.015340</td>\n",
       "      <td>0.360869</td>\n",
       "    </tr>\n",
       "    <tr>\n",
       "      <th>과금</th>\n",
       "      <td>0.080649</td>\n",
       "      <td>0.440034</td>\n",
       "      <td>0.096488</td>\n",
       "      <td>1.000000</td>\n",
       "      <td>0.161990</td>\n",
       "      <td>0.428252</td>\n",
       "      <td>0.342430</td>\n",
       "      <td>0.319549</td>\n",
       "      <td>0.227101</td>\n",
       "      <td>0.489941</td>\n",
       "      <td>...</td>\n",
       "      <td>0.128460</td>\n",
       "      <td>0.213056</td>\n",
       "      <td>0.153986</td>\n",
       "      <td>0.087084</td>\n",
       "      <td>0.053096</td>\n",
       "      <td>0.228618</td>\n",
       "      <td>0.093736</td>\n",
       "      <td>0.291415</td>\n",
       "      <td>0.332766</td>\n",
       "      <td>0.115607</td>\n",
       "    </tr>\n",
       "    <tr>\n",
       "      <th>패키지</th>\n",
       "      <td>0.065264</td>\n",
       "      <td>0.082556</td>\n",
       "      <td>0.100877</td>\n",
       "      <td>0.161990</td>\n",
       "      <td>1.000000</td>\n",
       "      <td>0.285095</td>\n",
       "      <td>0.104966</td>\n",
       "      <td>0.200303</td>\n",
       "      <td>0.162525</td>\n",
       "      <td>0.092318</td>\n",
       "      <td>...</td>\n",
       "      <td>0.208076</td>\n",
       "      <td>0.199874</td>\n",
       "      <td>0.162082</td>\n",
       "      <td>0.051092</td>\n",
       "      <td>0.167634</td>\n",
       "      <td>0.243726</td>\n",
       "      <td>0.166737</td>\n",
       "      <td>0.296742</td>\n",
       "      <td>0.336311</td>\n",
       "      <td>0.210008</td>\n",
       "    </tr>\n",
       "  </tbody>\n",
       "</table>\n",
       "<p>5 rows × 622 columns</p>\n",
       "</div>"
      ],
      "text/plain": [
       "          핵과금        엔씨        전설        과금       패키지        도전        영변  \\\n",
       "핵과금  1.000000  0.144047  0.340704  0.080649  0.065264  0.140574 -0.027476   \n",
       "엔씨   0.144047  1.000000  0.151755  0.440034  0.082556  0.085311  0.505020   \n",
       "전설   0.340704  0.151755  1.000000  0.096488  0.100877  0.118214  0.077159   \n",
       "과금   0.080649  0.440034  0.096488  1.000000  0.161990  0.428252  0.342430   \n",
       "패키지  0.065264  0.082556  0.100877  0.161990  1.000000  0.285095  0.104966   \n",
       "\n",
       "          무과금       다이야        만원  ...        팔고        음악        전체  \\\n",
       "핵과금  0.087434  0.201502  0.070471  ...  0.228705  0.207929  0.245433   \n",
       "엔씨   0.215455  0.261913  0.300944  ...  0.090653  0.319214  0.159275   \n",
       "전설  -0.046139  0.018847  0.079208  ...  0.204659  0.155009  0.290261   \n",
       "과금   0.319549  0.227101  0.489941  ...  0.128460  0.213056  0.153986   \n",
       "패키지  0.200303  0.162525  0.092318  ...  0.208076  0.199874  0.162082   \n",
       "\n",
       "           린지       과금러      대한민국       리소스        선물        굿잡        중단  \n",
       "핵과금  0.322737  0.210439  0.074546  0.370858  0.129201  0.001626  0.384446  \n",
       "엔씨   0.188370  0.067779  0.289480  0.065390  0.181074  0.291947  0.140879  \n",
       "전설   0.359609  0.068693  0.163291  0.264394  0.195840  0.015340  0.360869  \n",
       "과금   0.087084  0.053096  0.228618  0.093736  0.291415  0.332766  0.115607  \n",
       "패키지  0.051092  0.167634  0.243726  0.166737  0.296742  0.336311  0.210008  \n",
       "\n",
       "[5 rows x 622 columns]"
      ]
     },
     "execution_count": 127,
     "metadata": {},
     "output_type": "execute_result"
    }
   ],
   "source": [
    "similarity_matrix_df.head()"
   ]
  },
  {
   "cell_type": "code",
   "execution_count": 128,
   "metadata": {},
   "outputs": [],
   "source": [
    "word2vec_doc_score_df = pd.DataFrame(word2vec_doc_score.T, columns = list(vocabs))"
   ]
  },
  {
   "cell_type": "code",
   "execution_count": 129,
   "metadata": {},
   "outputs": [
    {
     "data": {
      "text/html": [
       "<div>\n",
       "<style scoped>\n",
       "    .dataframe tbody tr th:only-of-type {\n",
       "        vertical-align: middle;\n",
       "    }\n",
       "\n",
       "    .dataframe tbody tr th {\n",
       "        vertical-align: top;\n",
       "    }\n",
       "\n",
       "    .dataframe thead th {\n",
       "        text-align: right;\n",
       "    }\n",
       "</style>\n",
       "<table border=\"1\" class=\"dataframe\">\n",
       "  <thead>\n",
       "    <tr style=\"text-align: right;\">\n",
       "      <th></th>\n",
       "      <th>핵과금</th>\n",
       "      <th>엔씨</th>\n",
       "      <th>전설</th>\n",
       "      <th>과금</th>\n",
       "      <th>패키지</th>\n",
       "      <th>도전</th>\n",
       "      <th>영변</th>\n",
       "      <th>무과금</th>\n",
       "      <th>다이야</th>\n",
       "      <th>만원</th>\n",
       "      <th>...</th>\n",
       "      <th>팔고</th>\n",
       "      <th>음악</th>\n",
       "      <th>전체</th>\n",
       "      <th>린지</th>\n",
       "      <th>과금러</th>\n",
       "      <th>대한민국</th>\n",
       "      <th>리소스</th>\n",
       "      <th>선물</th>\n",
       "      <th>굿잡</th>\n",
       "      <th>중단</th>\n",
       "    </tr>\n",
       "  </thead>\n",
       "  <tbody>\n",
       "    <tr>\n",
       "      <th>0</th>\n",
       "      <td>6.057199</td>\n",
       "      <td>8.650659</td>\n",
       "      <td>5.782325</td>\n",
       "      <td>11.787098</td>\n",
       "      <td>5.999647</td>\n",
       "      <td>8.085650</td>\n",
       "      <td>7.465380</td>\n",
       "      <td>6.626934</td>\n",
       "      <td>6.420677</td>\n",
       "      <td>7.775841</td>\n",
       "      <td>...</td>\n",
       "      <td>5.157269</td>\n",
       "      <td>6.497755</td>\n",
       "      <td>6.274576</td>\n",
       "      <td>4.673294</td>\n",
       "      <td>3.724773</td>\n",
       "      <td>6.800920</td>\n",
       "      <td>4.542620</td>\n",
       "      <td>6.268209</td>\n",
       "      <td>7.590381</td>\n",
       "      <td>6.290787</td>\n",
       "    </tr>\n",
       "    <tr>\n",
       "      <th>1</th>\n",
       "      <td>3.405564</td>\n",
       "      <td>2.885540</td>\n",
       "      <td>3.480924</td>\n",
       "      <td>2.366556</td>\n",
       "      <td>2.596846</td>\n",
       "      <td>3.102566</td>\n",
       "      <td>2.241208</td>\n",
       "      <td>2.938315</td>\n",
       "      <td>2.688866</td>\n",
       "      <td>2.027266</td>\n",
       "      <td>...</td>\n",
       "      <td>2.998237</td>\n",
       "      <td>3.451088</td>\n",
       "      <td>3.866156</td>\n",
       "      <td>4.554217</td>\n",
       "      <td>2.201839</td>\n",
       "      <td>4.500669</td>\n",
       "      <td>3.863175</td>\n",
       "      <td>3.439934</td>\n",
       "      <td>3.417720</td>\n",
       "      <td>4.407107</td>\n",
       "    </tr>\n",
       "    <tr>\n",
       "      <th>2</th>\n",
       "      <td>5.744555</td>\n",
       "      <td>3.703871</td>\n",
       "      <td>5.400105</td>\n",
       "      <td>4.154009</td>\n",
       "      <td>3.380160</td>\n",
       "      <td>3.836379</td>\n",
       "      <td>3.514177</td>\n",
       "      <td>4.947555</td>\n",
       "      <td>3.155724</td>\n",
       "      <td>3.659026</td>\n",
       "      <td>...</td>\n",
       "      <td>7.044089</td>\n",
       "      <td>4.723980</td>\n",
       "      <td>7.066939</td>\n",
       "      <td>6.603240</td>\n",
       "      <td>4.351937</td>\n",
       "      <td>5.445934</td>\n",
       "      <td>6.103531</td>\n",
       "      <td>5.067331</td>\n",
       "      <td>4.792733</td>\n",
       "      <td>6.492065</td>\n",
       "    </tr>\n",
       "    <tr>\n",
       "      <th>3</th>\n",
       "      <td>3.125092</td>\n",
       "      <td>2.052358</td>\n",
       "      <td>3.607750</td>\n",
       "      <td>2.042073</td>\n",
       "      <td>2.224643</td>\n",
       "      <td>1.991854</td>\n",
       "      <td>1.794062</td>\n",
       "      <td>2.433352</td>\n",
       "      <td>1.754770</td>\n",
       "      <td>1.445995</td>\n",
       "      <td>...</td>\n",
       "      <td>3.203888</td>\n",
       "      <td>2.462156</td>\n",
       "      <td>4.008859</td>\n",
       "      <td>3.609519</td>\n",
       "      <td>2.256066</td>\n",
       "      <td>2.969747</td>\n",
       "      <td>2.687231</td>\n",
       "      <td>3.069817</td>\n",
       "      <td>2.542524</td>\n",
       "      <td>4.490262</td>\n",
       "    </tr>\n",
       "    <tr>\n",
       "      <th>4</th>\n",
       "      <td>6.325474</td>\n",
       "      <td>3.592626</td>\n",
       "      <td>6.760909</td>\n",
       "      <td>3.237298</td>\n",
       "      <td>3.630215</td>\n",
       "      <td>4.140162</td>\n",
       "      <td>3.366459</td>\n",
       "      <td>3.331430</td>\n",
       "      <td>3.731296</td>\n",
       "      <td>3.600025</td>\n",
       "      <td>...</td>\n",
       "      <td>6.548821</td>\n",
       "      <td>4.824305</td>\n",
       "      <td>7.478399</td>\n",
       "      <td>6.586428</td>\n",
       "      <td>4.909072</td>\n",
       "      <td>5.680393</td>\n",
       "      <td>6.458059</td>\n",
       "      <td>6.413785</td>\n",
       "      <td>5.184217</td>\n",
       "      <td>8.695632</td>\n",
       "    </tr>\n",
       "  </tbody>\n",
       "</table>\n",
       "<p>5 rows × 622 columns</p>\n",
       "</div>"
      ],
      "text/plain": [
       "        핵과금        엔씨        전설         과금       패키지        도전        영변  \\\n",
       "0  6.057199  8.650659  5.782325  11.787098  5.999647  8.085650  7.465380   \n",
       "1  3.405564  2.885540  3.480924   2.366556  2.596846  3.102566  2.241208   \n",
       "2  5.744555  3.703871  5.400105   4.154009  3.380160  3.836379  3.514177   \n",
       "3  3.125092  2.052358  3.607750   2.042073  2.224643  1.991854  1.794062   \n",
       "4  6.325474  3.592626  6.760909   3.237298  3.630215  4.140162  3.366459   \n",
       "\n",
       "        무과금       다이야        만원  ...        팔고        음악        전체        린지  \\\n",
       "0  6.626934  6.420677  7.775841  ...  5.157269  6.497755  6.274576  4.673294   \n",
       "1  2.938315  2.688866  2.027266  ...  2.998237  3.451088  3.866156  4.554217   \n",
       "2  4.947555  3.155724  3.659026  ...  7.044089  4.723980  7.066939  6.603240   \n",
       "3  2.433352  1.754770  1.445995  ...  3.203888  2.462156  4.008859  3.609519   \n",
       "4  3.331430  3.731296  3.600025  ...  6.548821  4.824305  7.478399  6.586428   \n",
       "\n",
       "        과금러      대한민국       리소스        선물        굿잡        중단  \n",
       "0  3.724773  6.800920  4.542620  6.268209  7.590381  6.290787  \n",
       "1  2.201839  4.500669  3.863175  3.439934  3.417720  4.407107  \n",
       "2  4.351937  5.445934  6.103531  5.067331  4.792733  6.492065  \n",
       "3  2.256066  2.969747  2.687231  3.069817  2.542524  4.490262  \n",
       "4  4.909072  5.680393  6.458059  6.413785  5.184217  8.695632  \n",
       "\n",
       "[5 rows x 622 columns]"
      ]
     },
     "execution_count": 129,
     "metadata": {},
     "output_type": "execute_result"
    }
   ],
   "source": [
    "word2vec_doc_score_df.head()"
   ]
  },
  {
   "cell_type": "code",
   "execution_count": 130,
   "metadata": {},
   "outputs": [],
   "source": [
    "from sklearn.preprocessing import StandardScaler"
   ]
  },
  {
   "cell_type": "code",
   "execution_count": 131,
   "metadata": {},
   "outputs": [],
   "source": [
    "scaler = StandardScaler()\n",
    "wv_scaled_df = scaler.fit_transform(word2vec_doc_score_df.values)\n",
    "wv_scaled_df = pd.DataFrame(wv_scaled_df, columns = word2vec_doc_score_df.columns)"
   ]
  },
  {
   "cell_type": "code",
   "execution_count": 132,
   "metadata": {},
   "outputs": [
    {
     "name": "stdout",
     "output_type": "stream",
     "text": [
      "돈없으면 못하는게임 어설프게 만원 현질해도 티도 안나는게임어느사냥터를 가든 재미 좀 보고 케릭을 성장 시킬려면 최소 천만원단위로 현질해야 될까말까한 그런 도박게임운영 개막장 갑질게임공지없는 잠수패치로 무소중과금 유저들 권리를 뺏아간 게임아덴드랍률하향아이템드랍률하향뽑기확률 확성확률 대폭하향아이템인첸성공률 하향각인주문서상자에서 축주문서 획득할 확률 대폭하향이벤트도 핵과금러들만을 위한 이벤트만 하는 게임엔씨 대표작 리니지란 게임을 한순간에 강원랜드 도박장보다 더 극심한 악의구렁텅이로\n",
      " \n",
      "\n",
      "게임 최악 추억이라는 단어로 유져들 현혹시켜서 돈빼먹기만 하는 게임 드랍율 파템 보기도 힘드러 뽑기도 최악 반지 귀걸이 현질해야 강해지는게임 돈 은 쓴것도 아니게 되는 게임 이제 거래 교환 시스템은 말자체도 없음 캐릭밸런스도 똥망 추억이라는 부분으로 너희들 옛 리니지 돈벌때 추억인듯 하다 다른전계로 간다면서 리니지과 같은방향으로 가는중 이벤트는 현질이벤트 유저희롱하는이벤트만하고 개선해양할 아인시스템은 현질로 몇퍼감안 그게끝 내 인생 최고 쓰레기 게임 \n",
      "\n",
      "이게임은 대한민국 역사상 최악의 게임이다 사람들을 현질의 세계로 유도하며 무조건 현질하지않으면 안되는 컨텐츠 밖에 없다 현질안해도 강해질수있는 컨텐츠는 눈에 씻고 찾아봐도 없다 이런 쓰레기 도박 게임을 한다는 자체가 우습고 뽑기 확률도프로 이런게 말이 된다고 생각하나 적어도 뽑기 확률을 그렇게 만들어 놨으면 노가다로 제작이라도 할수있게 만들어야하는거 아니냐 보스잡아서 극악의 재료템 드랍 이딴 말은 쳐하지말고 그냥 그건 현질하라는 소리랑 똑같으니까 강화시스템도 더럽고 너희 엔씨는 언제 정신차릴래 캬악퉷 이\n",
      " \n",
      "\n",
      "결제ㅡ아이템구매ㅡ신탬ㅡ결제ㅡ아이템구매ㅡ신탬ㅡ결제ㅡ아이템구매ㅡ신탬ㅡ결제ㅡ아이템구매ㅡ이벤트ㅡ결제ㅡ이벤트 참여 ㅡ 이벤트 특정지역에서 사냥 ㅡ 라인통제 ㅡ이벤트 못함 ㅡ결제 ㅡ 강화 ㅡ아이템 터짐 ㅡ결제 ㅡ이혼 ㅡ결제 ㅡ 아이템구매ㅡ신탬ㅡ결제ㅡ아이템구매ㅡ신탬ㅡ돈없음 대출ㅡ결제ㅡ구매ㅡ강화 터짐 \n",
      "\n",
      "아인으로 사냥하는데도 아이템드랍률최악 악세 장비 인첸률 최악 변신 인형뽑기 확률 최악 변신 인형 합성확률 최악 막피에대한 제제상점이용불가 카오사망시 아템복구불가카오풀기어려움등등하나도 없음오토게임인데 몹한텐안주고 막피한테 죽어서 시간동안 사냥하는시간보다 마을에 서있는시간이 더많음하여 무료뽑기할 아덴 부족 득템하기힘든데 아이템파는놈은 너무비싸게내놔서 사기도힘들어 비각인 아이템 날렸는데 각인으로복구시켜줘봐야 무슨의미냐 \n",
      "\n"
     ]
    }
   ],
   "source": [
    "# keyword 별 가장 높은 Score를 가지는 문서 top N개를 도출하는 함수\n",
    "def extract_docs(keyword, n):\n",
    "    tmp_df = word2vec_doc_score_df[keyword].sort_values(ascending = False)\n",
    "    get_nindex = tmp_df.index[:n]\n",
    "    for text in np.ndarray.tolist(df.iloc[get_nindex, 1].values):\n",
    "        print(text, '\\n')\n",
    "\n",
    "extract_docs('현질', 5)"
   ]
  },
  {
   "cell_type": "code",
   "execution_count": null,
   "metadata": {},
   "outputs": [],
   "source": []
  },
  {
   "cell_type": "code",
   "execution_count": null,
   "metadata": {},
   "outputs": [],
   "source": []
  },
  {
   "cell_type": "markdown",
   "metadata": {},
   "source": [
    "## Clustering Documents"
   ]
  },
  {
   "cell_type": "code",
   "execution_count": 45,
   "metadata": {},
   "outputs": [],
   "source": [
    "import matplotlib.pyplot as plt\n",
    "from sklearn.manifold import TSNE\n",
    "\n",
    "model = TSNE(random_state= 42, learning_rate = 500)\n",
    "feature = wv_scaled_df.values\n",
    "transformed = model.fit_transform(feature)"
   ]
  },
  {
   "cell_type": "code",
   "execution_count": 46,
   "metadata": {},
   "outputs": [
    {
     "data": {
      "image/png": "[encoded data removed]",
      "text/plain": [
       "<Figure size 432x288 with 1 Axes>"
      ]
     },
     "metadata": {
      "needs_background": "light"
     },
     "output_type": "display_data"
    }
   ],
   "source": [
    "xs = transformed[:,0]\n",
    "ys = transformed[:,1]\n",
    "plt.scatter(xs,ys)\n",
    "\n",
    "plt.show()"
   ]
  },
  {
   "cell_type": "code",
   "execution_count": 341,
   "metadata": {},
   "outputs": [],
   "source": [
    "from sklearn.cluster import KMeans\n",
    "kmeans = KMeans(n_clusters=4, max_iter=1200, algorithm = 'auto')\n",
    "clusters = kmeans.fit_predict(feature)"
   ]
  },
  {
   "cell_type": "code",
   "execution_count": 342,
   "metadata": {},
   "outputs": [
    {
     "data": {
      "text/plain": [
       "{0: 7719, 1: 981, 2: 215, 3: 2605}"
      ]
     },
     "execution_count": 342,
     "metadata": {},
     "output_type": "execute_result"
    }
   ],
   "source": [
    "unique, counts = np.unique(clusters, return_counts=True)\n",
    "dict(zip(unique, counts))"
   ]
  },
  {
   "cell_type": "code",
   "execution_count": 351,
   "metadata": {},
   "outputs": [
    {
     "data": {
      "image/png": "[encoded data removed]",
      "text/plain": [
       "<Figure size 432x288 with 1 Axes>"
      ]
     },
     "metadata": {
      "needs_background": "light"
     },
     "output_type": "display_data"
    }
   ],
   "source": [
    "xs = transformed[:,0]\n",
    "ys = transformed[:,1]\n",
    "plt.scatter(xs,ys,c=clusters)\n",
    "\n",
    "plt.show()"
   ]
  },
  {
   "cell_type": "code",
   "execution_count": 353,
   "metadata": {},
   "outputs": [
    {
     "data": {
      "text/plain": [
       "{0: 5812, 1: 5708}"
      ]
     },
     "execution_count": 353,
     "metadata": {},
     "output_type": "execute_result"
    }
   ],
   "source": [
    "from sklearn.mixture import GaussianMixture\n",
    "gmm = GaussianMixture(n_components=2, covariance_type='full',max_iter = 1000)\n",
    "clusters = gmm.fit_predict(feature)\n",
    "unique, counts = np.unique(clusters, return_counts=True)\n",
    "dict(zip(unique, counts))"
   ]
  },
  {
   "cell_type": "code",
   "execution_count": 354,
   "metadata": {},
   "outputs": [
    {
     "data": {
      "image/png": "[encoded data removed]",
      "text/plain": [
       "<Figure size 432x288 with 1 Axes>"
      ]
     },
     "metadata": {
      "needs_background": "light"
     },
     "output_type": "display_data"
    }
   ],
   "source": [
    "xs = transformed[:,0]\n",
    "ys = transformed[:,1]\n",
    "plt.scatter(xs,ys,c=clusters)\n",
    "\n",
    "plt.show()"
   ]
  },
  {
   "cell_type": "code",
   "execution_count": null,
   "metadata": {},
   "outputs": [],
   "source": [
    "from sklearn.cluster import DBSCAN\n",
    "dbscan = DBSCAN(eps = 10, min_samples=100)\n",
    "clusters = dbscan.fit_predict(feature)\n",
    "unique, counts = np.unique(clusters, return_counts=True)\n",
    "dict(zip(unique, counts))"
   ]
  },
  {
   "cell_type": "code",
   "execution_count": null,
   "metadata": {},
   "outputs": [],
   "source": [
    "xs = transformed[:,0]\n",
    "ys = transformed[:,1]\n",
    "plt.scatter(xs,ys,c=clusters)\n",
    "\n",
    "plt.show()"
   ]
  },
  {
   "cell_type": "code",
   "execution_count": null,
   "metadata": {},
   "outputs": [],
   "source": []
  }
 ],
 "metadata": {
  "kernelspec": {
   "display_name": "PyCharm (pycharm_project)",
   "language": "python",
   "name": "pycharm-2be34fea"
  },
  "language_info": {
   "codemirror_mode": {
    "name": "ipython",
    "version": 3
   },
   "file_extension": ".py",
   "mimetype": "text/x-python",
   "name": "python",
   "nbconvert_exporter": "python",
   "pygments_lexer": "ipython3",
   "version": "3.6.8"
  },
  "pycharm": {
   "stem_cell": {
    "cell_type": "raw",
    "metadata": {
     "collapsed": false
    },
    "source": []
   }
  }
 },
 "nbformat": 4,
 "nbformat_minor": 4
}
