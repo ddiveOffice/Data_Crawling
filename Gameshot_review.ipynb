{
 "cells": [
  {
   "cell_type": "markdown",
   "metadata": {},
   "source": [
    "## Introduction\n",
    "- Gameshot 모바일 RPG장르 게임 리뷰 페이지 리뷰 포스팅 내용 Crawling\n",
    "- posting 제목, posting본문 text, posting날짜 (~2013년 포스팅)\n",
    "- 검색 결과 1 ~ 12페이지까지의 모든 리뷰 posting\n",
    "- Beautifulsoup, request 로 text crawling"
   ]
  },
  {
   "cell_type": "markdown",
   "metadata": {},
   "source": [
    "### Import library"
   ]
  },
  {
   "cell_type": "code",
   "execution_count": 1,
   "metadata": {},
   "outputs": [],
   "source": [
    "from bs4 import BeautifulSoup\n",
    "import urllib.request\n",
    "from urllib.parse import quote\n",
    "import pandas as pd"
   ]
  },
  {
   "cell_type": "code",
   "execution_count": 2,
   "metadata": {},
   "outputs": [],
   "source": [
    "board_url = 'http://www.gameshot.net/review/?&ct=MO&s_subject=Y&s_content=&s_search_txt=RPG&pg='\n",
    "board_num = 1"
   ]
  },
  {
   "cell_type": "code",
   "execution_count": 3,
   "metadata": {},
   "outputs": [],
   "source": [
    "rev_article_url = [] \n",
    "rev_article_title = []\n",
    "rev_date = []\n",
    "rev_contents_txt = []\n",
    "\n",
    "for i in range(board_num, 13):\n",
    "    board_url_full = board_url + str(i)\n",
    "    source_code_from_URL = urllib.request.urlopen(board_url_full)\n",
    "    soup = BeautifulSoup(source_code_from_URL, 'lxml', from_encoding = 'utf-8')\n",
    "    for title in soup.find_all('p', 'f16'):\n",
    "        title_link =  title.select('a')\n",
    "        article_url = title_link[0]['href']\n",
    "        rev_article_url.append(article_url)"
   ]
  },
  {
   "cell_type": "code",
   "execution_count": 4,
   "metadata": {},
   "outputs": [
    {
     "name": "stdout",
     "output_type": "stream",
     "text": [
      "177\n"
     ]
    }
   ],
   "source": [
    "print(len(rev_article_url))"
   ]
  },
  {
   "cell_type": "code",
   "execution_count": 5,
   "metadata": {},
   "outputs": [],
   "source": [
    "article_contents = []\n",
    "\n",
    "for article_url_part in rev_article_url:\n",
    "    article_full_url = 'http://www.gameshot.net/'+ article_url_part\n",
    "    source_code_from_URL = urllib.request.urlopen(article_full_url)\n",
    "    soup = BeautifulSoup(source_code_from_URL, 'lxml', from_encoding = 'utf-8')\n",
    "\n",
    "    contents_title = soup.select('h3')\n",
    "    for i, item in enumerate(contents_title):\n",
    "        if i % 2 == 0:\n",
    "            string_title = str(item.find_all(text=True))\n",
    "            rev_article_title.append(string_title)\n",
    "\n",
    "    contents_article = soup.select('div.article_view.p10')\n",
    "    for item in contents_article:\n",
    "        string_item = str(item.find_all(text=True))\n",
    "        rev_contents_txt.append(string_item)\n",
    "\n",
    "    article_date = soup.select('div.pull-right.f12')\n",
    "    for item in article_date:\n",
    "        string_item = str(item.find_all(text=True))\n",
    "        rev_date.append(string_item)"
   ]
  },
  {
   "cell_type": "code",
   "execution_count": 6,
   "metadata": {},
   "outputs": [
    {
     "name": "stdout",
     "output_type": "stream",
     "text": [
      "177\n"
     ]
    }
   ],
   "source": [
    "print(len(rev_article_title)) "
   ]
  },
  {
   "cell_type": "code",
   "execution_count": 7,
   "metadata": {},
   "outputs": [
    {
     "data": {
      "text/plain": [
       "[\"['드래곤과 인간의 교감, 드래곤라자2']\", '[\"넷마블 기술력은 세계제일… \\'일곱 개의 대죄\\', 이게 게임이야? 애니야?\"]']"
      ]
     },
     "execution_count": 7,
     "metadata": {},
     "output_type": "execute_result"
    }
   ],
   "source": [
    "rev_article_title[:2]"
   ]
  },
  {
   "cell_type": "code",
   "execution_count": 8,
   "metadata": {},
   "outputs": [
    {
     "name": "stdout",
     "output_type": "stream",
     "text": [
      "177\n"
     ]
    }
   ],
   "source": [
    "print(len(rev_date)) "
   ]
  },
  {
   "cell_type": "code",
   "execution_count": 9,
   "metadata": {},
   "outputs": [
    {
     "name": "stdout",
     "output_type": "stream",
     "text": [
      "177\n"
     ]
    }
   ],
   "source": [
    "print(len(rev_contents_txt))"
   ]
  },
  {
   "cell_type": "code",
   "execution_count": 10,
   "metadata": {},
   "outputs": [],
   "source": [
    "df_dict = {}\n",
    "df_dict['title'] = rev_article_title\n",
    "df_dict['contents'] = rev_contents_txt\n",
    "df_dict['date'] = rev_date"
   ]
  },
  {
   "cell_type": "code",
   "execution_count": 11,
   "metadata": {},
   "outputs": [
    {
     "data": {
      "text/html": [
       "<div>\n",
       "<style scoped>\n",
       "    .dataframe tbody tr th:only-of-type {\n",
       "        vertical-align: middle;\n",
       "    }\n",
       "\n",
       "    .dataframe tbody tr th {\n",
       "        vertical-align: top;\n",
       "    }\n",
       "\n",
       "    .dataframe thead th {\n",
       "        text-align: right;\n",
       "    }\n",
       "</style>\n",
       "<table border=\"1\" class=\"dataframe\">\n",
       "  <thead>\n",
       "    <tr style=\"text-align: right;\">\n",
       "      <th></th>\n",
       "      <th>title</th>\n",
       "      <th>contents</th>\n",
       "      <th>date</th>\n",
       "    </tr>\n",
       "  </thead>\n",
       "  <tbody>\n",
       "    <tr>\n",
       "      <th>0</th>\n",
       "      <td>['드래곤과 인간의 교감, 드래곤라자2']</td>\n",
       "      <td>['\\n', ' article page jumper ', '\\n', ' /artic...</td>\n",
       "      <td>[' 2019년 05월 17일  15시 09분 36초']</td>\n",
       "    </tr>\n",
       "    <tr>\n",
       "      <th>1</th>\n",
       "      <td>[\"넷마블 기술력은 세계제일… '일곱 개의 대죄', 이게 게임이야? 애니야?\"]</td>\n",
       "      <td>['\\n', ' article page jumper ', '\\n', ' /artic...</td>\n",
       "      <td>[' 2019년 05월 17일  12시 00분 19초']</td>\n",
       "    </tr>\n",
       "    <tr>\n",
       "      <th>2</th>\n",
       "      <td>['당신의 운명개척 RPG, 기억의 저편:오블리비언']</td>\n",
       "      <td>['\\n', ' article page jumper ', '\\n', ' /artic...</td>\n",
       "      <td>[' 2019년 05월 14일  13시 36분 38초']</td>\n",
       "    </tr>\n",
       "    <tr>\n",
       "      <th>3</th>\n",
       "      <td>[\"스마트폰 게임을 콘솔 게임처럼… 블루투스 게임패드 '안디오스'\"]</td>\n",
       "      <td>['\\n', ' article page jumper ', '\\n', ' /artic...</td>\n",
       "      <td>[' 2019년 05월 14일  03시 15분 26초']</td>\n",
       "    </tr>\n",
       "    <tr>\n",
       "      <th>4</th>\n",
       "      <td>[\"인기 대전격투 게임의 횡스크롤화, 'KOF 올스타'\"]</td>\n",
       "      <td>['\\n', ' article page jumper ', '\\n', ' /artic...</td>\n",
       "      <td>[' 2019년 05월 13일  23시 38분 26초']</td>\n",
       "    </tr>\n",
       "  </tbody>\n",
       "</table>\n",
       "</div>"
      ],
      "text/plain": [
       "                                          title  \\\n",
       "0                       ['드래곤과 인간의 교감, 드래곤라자2']   \n",
       "1  [\"넷마블 기술력은 세계제일… '일곱 개의 대죄', 이게 게임이야? 애니야?\"]   \n",
       "2                ['당신의 운명개척 RPG, 기억의 저편:오블리비언']   \n",
       "3        [\"스마트폰 게임을 콘솔 게임처럼… 블루투스 게임패드 '안디오스'\"]   \n",
       "4              [\"인기 대전격투 게임의 횡스크롤화, 'KOF 올스타'\"]   \n",
       "\n",
       "                                            contents  \\\n",
       "0  ['\\n', ' article page jumper ', '\\n', ' /artic...   \n",
       "1  ['\\n', ' article page jumper ', '\\n', ' /artic...   \n",
       "2  ['\\n', ' article page jumper ', '\\n', ' /artic...   \n",
       "3  ['\\n', ' article page jumper ', '\\n', ' /artic...   \n",
       "4  ['\\n', ' article page jumper ', '\\n', ' /artic...   \n",
       "\n",
       "                              date  \n",
       "0  [' 2019년 05월 17일  15시 09분 36초']  \n",
       "1  [' 2019년 05월 17일  12시 00분 19초']  \n",
       "2  [' 2019년 05월 14일  13시 36분 38초']  \n",
       "3  [' 2019년 05월 14일  03시 15분 26초']  \n",
       "4  [' 2019년 05월 13일  23시 38분 26초']  "
      ]
     },
     "execution_count": 11,
     "metadata": {},
     "output_type": "execute_result"
    }
   ],
   "source": [
    "contents_df = pd.DataFrame.from_dict(df_dict)\n",
    "contents_df.head()"
   ]
  },
  {
   "cell_type": "code",
   "execution_count": 12,
   "metadata": {},
   "outputs": [],
   "source": [
    "contents_df['title'] = contents_df['title'].str.replace(\"[\", \"\")\n",
    "contents_df['title'] = contents_df['title'].str.replace(\"]\", \"\")\n",
    "contents_df['contents'] = contents_df['contents'].str.replace(\"[\", \"\")\n",
    "contents_df['contents'] = contents_df['contents'].str.replace(\"]\", \"\")\n",
    "contents_df['date'] = contents_df['date'].str.replace(\"[\", \"\")\n",
    "contents_df['date'] = contents_df['date'].str.replace(\"]\", \"\")"
   ]
  },
  {
   "cell_type": "code",
   "execution_count": 13,
   "metadata": {},
   "outputs": [
    {
     "data": {
      "text/plain": [
       "'\\'\\\\n\\', \\' article page jumper \\', \\'\\\\n\\', \\' /article page jumper \\', \\'\\\\n\\', \\' social \\', \\'\\\\n\\', \\'\\\\n\\', \\'\\\\n\\', \\'\\\\n\\\\t\\\\t\\\\t\\\\t\\\\t\\\\tfacebook\\', \\'\\\\n\\', \\'twitter\\', \\'\\\\n\\', \\'google+\\', \\'\\\\n\\', \\'\\\\n\\', \\' social \\', \\'\\\\n\\', \\' zoom in / out \\', \\'\\\\n\\', \\'\\\\n\\', \\'\\\\n\\', \\'\\\\n\\', \\'\\\\n\\', \\'\\\\n\\', \\' /@zoom in / out \\', \\'\\\\n\\', \\'\\\\n\\', \\'\\\\n\\', \\'페이지 주소복사\\', \\'\\\\n\\', \\'\\\\n\\', \\'http://www.gameshot.net/common/con_view.php?code=GA5cde5062cd111\\', \\'\\\\n\\', \\'\\\\n\\', \\'\\\\n\\', \\'\\\\n\\', \\'\\\\n\\', \"이영도 작가의 소설 \\'드래곤라자\\'의 후속작인 \\'퓨처 워커\\'가 모바일게임으로 찾아온다.\", \\'\\\\xa0\\', \\'스카이문스테크놀로지가 개발하고 서비스하는 ‘드래곤라자2: 퓨처워커’(이하 드래곤라자2)는 완성도 높은 게임성을 위해 정식 출시를 앞두고 막바지 작업을 진행중이다.\\', \\'\\\\xa0\\', \\'원작 소설의 인기에 힘입어 ‘드래곤라자2’는 현재 진행중인 사전예약에 80만명 이상이 몰리며 흥행에 대한 기대를 높이고 있으며, 차주에는 약 100만 명의 유저들이 몰릴 것으로 예상된다.\\', \\'\\\\xa0\\', \\'특히 드래곤과 교감하는 스토리로 구성된 시네마틱 영상이 공개되자 기존 게임에서 볼 수 없었던 차별화된 콘텐츠에 관심이 집중되며 화제를 모으고 있다.\\', \\'\\\\xa0\\', \\'판타지 소설이 눈앞에 펼쳐지는 듯한 감동을 전달하는 ‘드래곤라자2’의 핵심 콘텐츠를 미리 살펴보자\\', \\'\\\\xa0\\', \\'\\\\xa0\\', \\'■ 화려한 그래픽과 손끝이 짜릿한 액션감을 자랑하는 모바일 MMORPG\\', \\'\\\\xa0\\', \\'‘유니티2017’ 엔진을 활용해 제작된 이번 게임은 높은 수준의 그래픽을 보여준다.\\', \\'\\\\xa0\\', \\'먼저, ‘드래곤라자2’는 디테일한 게임 배경으로 퓨처워커의 판타지 세계를 구현해 뛰어난 몰입도를 선사한다.\\', \\'\\\\xa0\\', \\'뿐만 아니라 각자의 개성을 갖고 있는 창기사, 창술사, 암살자, 마법사, 광전사 등 5가지 캐릭터가 펼치는 폭발적인 스킬과 절정의 타격감을 느낄 수 있는 움직임은 PVE, PVP 모두를 경험할 수 있다.\\', \\'\\\\xa0\\', \\'특히 소설을 읽으면서 상상속으로 떠올렸던 영웅들의 스킬과 전투 장면을 직접 눈으로 생생하게 즐길 수 있으며, 역동적이고 박진감 넘치는 전투현장은 소설을 접하지 않았던 이용자에게도 충분히 매력적이다.\\', \\'\\\\xa0\\', \\'\\\\xa0\\', \\'■ 최강의 몬스터, 드래곤에 탑승하여 전투를 즐기는 짜릿함!\\', \\'\\\\xa0\\', \\'‘드래곤라자2’에서는 판타지 세계의 끝판왕인 드래곤과 함께 전장을 지배할 수 있다.\\', \\'\\\\xa0\\', \\'먼저 드래곤을 활성화 시키기 위해서는 에피소드 클리어, 이벤트 보상을 통해 획득할 수 있는 드래곤 영혼이 필요하다.\\', \\'\\\\xa0\\', \\'바람, 숲, 번개, 불, 얼음, 죽음, 혼돈 등 총 7속성의 드래곤을 획득할 수 있으며 한 마리만 출전이 가능하기 때문에 전략적이고 신중한 선택을 요구한다.\\', \\'\\\\xa0\\', \\'또한 드래곤은 총 5단계의 각성과 드래곤의 별 시스템을 통한 성장시킬 수 있으며, 단계별로 더욱 강력해진 드래곤은 전장에서 압도적인 힘을 자랑한다.\\', \\'\\\\xa0\\', \\'\\\\xa0\\', \\'■ 소설속 영웅들과 친구가 될 수 있다고? 동료, 라자 콘텐츠\\', \\'\\\\xa0\\', \\'이 게임의 또 다른 특징은 소설 속 영웅은 물론 라자와 함께 전투를 즐길 수 있다는 점이다.\\', \\'\\\\xa0\\', \\'동료는 총 4개의 등급으로 나뉘며 상점과 에피소드를 클리어하면 획득할 수 있다. 캐릭터 레벨에 따라 최대 3명까지 슬롯에 장착 시킬 수 있다.\\', \\'\\\\xa0\\', \\'또한 각성과 강화를 통해 스탯을 상승시킬 수 있으며, 최대 강화 레벨을 달성한 동료의 경우 환류 시스템을 통해 상위 등급의 동료 조각을 얻을 수 있어 더욱 강력한 동료를 획득할 수 있다.\\', \\'\\\\xa0\\', \\'원작을 읽었던 유저라면 애착이 가는 영웅들을 육성하고 싶은 수집욕구를 강하게 느낄 수 있으며, 처음 접하더라도 다양하고 개성 넘치는 영웅들은 충분히 매력적이다.\\', \\'\\\\xa0\\', \\'드래곤과 인간을 이어주는 매개체인 라자는 보유한 드래곤과 주계약, 보조 계약을 맺을 수 있으며, 라자의 속성이 일치할 경우에만 고유의 액티브 스킬을 활용할 수 있다.\\', \\'\\\\xa0\\', \\'반면, 보조 계약은 3명의 라자와 진행할 수 있으며 속성과 상관 없이 패시브 스킬만 적용되기 때문에 적재 적소에 필요한 계약을 맺어 전투에 활용해야 한다.\\', \\'\\\\xa0\\', \\'\\\\xa0\\', \\'\\\\xa0\\', \\'■ 나만의 캐릭터를 만들자! 자유로운 커스터마이징 시스템\\', \\'\\\\xa0\\', \\'‘드래곤라자2’는 체형, 얼굴 등을 유저가 원하는 형태로 세부적으로 조절할 수 있는 커스터마이징 시스템이 제공된다.\\', \\'\\\\xa0\\', \\'자신이 원하는 스타일로 가슴, 팔, 골반, 다리를 조정할 수 있을 뿐만 아니라 이목구비까지 세부 조절이 가능해 나만의 캐릭터를 생성하는 것도 하나의 재미요소이다.\\', \\'\\\\xa0\\', \\'또한 꾸미기 탭에서는 화려함을 뽐내는 장비를 미리 입어 보고 캐릭터의 다양한 표정 및 동작들을 확인할 수 있어 본격적인 게임 시작에 앞서 ‘드래곤라자2’의 역동적인 액션을 경험할 수 있다.\\', \\'\\\\xa0\\', \\'\\\\xa0\\', \\' \\', \\'조건희 / \\', \\'desk@gameshot.net\\', \\' | 보도자료 \\', \\'desk@gameshot.net\\', \\'\\\\n\\', \\'\\\\n\\', \\'\\\\n\\', \\'\\\\n\\', \\'\\\\n\\', \\'\\\\n\\', \\' article page jumper \\', \\'\\\\n\\', \\' /article page jumper \\', \\'\\\\n\\', \\' social \\', \\'\\\\n\\', \\'\\\\n\\', \\'\\\\n\\', \\'\\\\n\\\\t\\\\t\\\\t\\\\t\\\\t\\\\tfacebook\\', \\'\\\\n\\', \\'twitter\\', \\'\\\\n\\', \\'google+\\', \\'\\\\n\\', \\'\\\\n\\', \\' /@social \\', \\'\\\\n\\', \\' zoom in/out \\', \\'\\\\n\\', \\'\\\\n\\', \\'\\\\n\\', \\'\\\\n\\', \\'\\\\n\\', \\'\\\\n\\', \\' /@zoom in/out \\', \\'\\\\n\\', \\'\\\\n\\', \"\\\\n\\\\t\\\\t\\\\tvar linklist = document.getElementById(\\'article_content\\').getElementsByTagName(\\'a\\');\\\\n\\\\t\\\\t\\\\tfor (var i=0; i<linklist.length; i++) { \\\\n\\\\t\\\\t\\\\tlinklisti.setAttribute(\\'target\\', \\'_blank\\'); \\\\n\\\\t\\\\t\\\\t}\\\\n\\\\t\\\\t\\\\t\", \\'\\\\n\\', \\'\\\\n\\', \\'\\\\n\\', \\' 리스트\\', \\'\\\\n\\', \\' 맨위로\\', \\'\\\\n\\', \\'\\\\n\\', \\'\\\\n\\''"
      ]
     },
     "execution_count": 13,
     "metadata": {},
     "output_type": "execute_result"
    }
   ],
   "source": [
    "contents_df['contents'][0]"
   ]
  },
  {
   "cell_type": "code",
   "execution_count": 14,
   "metadata": {},
   "outputs": [],
   "source": [
    "import re\n",
    "contents_df['contents'] = contents_df['contents'].str.replace(r\"[-=+,#/\\?}_{:^$.;@*\\\"※~&%ㆍ!』\\\\‘|\\(\\)\\[\\]\\<\\>`\\'…■》]\", \"\")\n",
    "contents_df['contents'] = contents_df['contents'].str.replace(r\"[A-Za-z]\", \"\")\n",
    "contents_df['contents'] = contents_df['contents'].str.replace(\"페이지 주소복사\", \"\")\n",
    "contents_df['contents'] = contents_df['contents'].str.replace(\"리스트\", \"\")\n",
    "contents_df['contents'] = contents_df['contents'].str.replace(\"보도자료\", \"\")\n",
    "contents_df['contents'] = contents_df['contents'].str.replace(\"조건희\", \"\")\n",
    "contents_df['contents'] = contents_df['contents'].str.replace(\"맨위로\", \"\")\n",
    "contents_df['contents'] = contents_df['contents'].str.replace(\" 0 \", \" \")\n",
    "contents_df['contents'] = contents_df['contents'].str.strip()"
   ]
  },
  {
   "cell_type": "code",
   "execution_count": 15,
   "metadata": {},
   "outputs": [
    {
     "data": {
      "text/plain": [
       "'55062111      이영도 작가의 소설 드래곤라자의 후속작인 퓨처 워커가 모바일게임으로 찾아온다 스카이문스테크놀로지가 개발하고 서비스하는 드래곤라자2 퓨처워커’이하 드래곤라자2는 완성도 높은 게임성을 위해 정식 출시를 앞두고 막바지 작업을 진행중이다 원작 소설의 인기에 힘입어 드래곤라자2’는 현재 진행중인 사전예약에 80만명 이상이 몰리며 흥행에 대한 기대를 높이고 있으며 차주에는 약 100만 명의 유저들이 몰릴 것으로 예상된다 특히 드래곤과 교감하는 스토리로 구성된 시네마틱 영상이 공개되자 기존 게임에서 볼 수 없었던 차별화된 콘텐츠에 관심이 집중되며 화제를 모으고 있다 판타지 소설이 눈앞에 펼쳐지는 듯한 감동을 전달하는 드래곤라자2’의 핵심 콘텐츠를 미리 살펴보자 0  화려한 그래픽과 손끝이 짜릿한 액션감을 자랑하는 모바일  유니티2017’ 엔진을 활용해 제작된 이번 게임은 높은 수준의 그래픽을 보여준다 먼저 드래곤라자2’는 디테일한 게임 배경으로 퓨처워커의 판타지 세계를 구현해 뛰어난 몰입도를 선사한다 뿐만 아니라 각자의 개성을 갖고 있는 창기사 창술사 암살자 마법사 광전사 등 5가지 캐릭터가 펼치는 폭발적인 스킬과 절정의 타격감을 느낄 수 있는 움직임은   모두를 경험할 수 있다 특히 소설을 읽으면서 상상속으로 떠올렸던 영웅들의 스킬과 전투 장면을 직접 눈으로 생생하게 즐길 수 있으며 역동적이고 박진감 넘치는 전투현장은 소설을 접하지 않았던 이용자에게도 충분히 매력적이다 0  최강의 몬스터 드래곤에 탑승하여 전투를 즐기는 짜릿함 드래곤라자2’에서는 판타지 세계의 끝판왕인 드래곤과 함께 전장을 지배할 수 있다 먼저 드래곤을 활성화 시키기 위해서는 에피소드 클리어 이벤트 보상을 통해 획득할 수 있는 드래곤 영혼이 필요하다 바람 숲 번개 불 얼음 죽음 혼돈 등 총 7속성의 드래곤을 획득할 수 있으며 한 마리만 출전이 가능하기 때문에 전략적이고 신중한 선택을 요구한다 또한 드래곤은 총 5단계의 각성과 드래곤의 별 시스템을 통한 성장시킬 수 있으며 단계별로 더욱 강력해진 드래곤은 전장에서 압도적인 힘을 자랑한다 0  소설속 영웅들과 친구가 될 수 있다고 동료 라자 콘텐츠 이 게임의 또 다른 특징은 소설 속 영웅은 물론 라자와 함께 전투를 즐길 수 있다는 점이다 동료는 총 4개의 등급으로 나뉘며 상점과 에피소드를 클리어하면 획득할 수 있다 캐릭터 레벨에 따라 최대 3명까지 슬롯에 장착 시킬 수 있다 또한 각성과 강화를 통해 스탯을 상승시킬 수 있으며 최대 강화 레벨을 달성한 동료의 경우 환류 시스템을 통해 상위 등급의 동료 조각을 얻을 수 있어 더욱 강력한 동료를 획득할 수 있다 원작을 읽었던 유저라면 애착이 가는 영웅들을 육성하고 싶은 수집욕구를 강하게 느낄 수 있으며 처음 접하더라도 다양하고 개성 넘치는 영웅들은 충분히 매력적이다 드래곤과 인간을 이어주는 매개체인 라자는 보유한 드래곤과 주계약 보조 계약을 맺을 수 있으며 라자의 속성이 일치할 경우에만 고유의 액티브 스킬을 활용할 수 있다 반면 보조 계약은 3명의 라자와 진행할 수 있으며 속성과 상관 없이 패시브 스킬만 적용되기 때문에 적재 적소에 필요한 계약을 맺어 전투에 활용해야 한다 0  나만의 캐릭터를 만들자 자유로운 커스터마이징 시스템 드래곤라자2’는 체형 얼굴 등을 유저가 원하는 형태로 세부적으로 조절할 수 있는 커스터마이징 시스템이 제공된다 자신이 원하는 스타일로 가슴 팔 골반 다리를 조정할 수 있을 뿐만 아니라 이목구비까지 세부 조절이 가능해 나만의 캐릭터를 생성하는 것도 하나의 재미요소이다 또한 꾸미기 탭에서는 화려함을 뽐내는 장비를 미리 입어 보고 캐릭터의 다양한 표정 및 동작들을 확인할 수 있어 본격적인 게임 시작에 앞서 드래곤라자2’의 역동적인 액션을 경험할 수 있다 0'"
      ]
     },
     "execution_count": 15,
     "metadata": {},
     "output_type": "execute_result"
    }
   ],
   "source": [
    "contents_df['contents'][0]"
   ]
  },
  {
   "cell_type": "code",
   "execution_count": 16,
   "metadata": {},
   "outputs": [
    {
     "data": {
      "text/plain": [
       "'2019년 05월 17일  15시 09분 36초'"
      ]
     },
     "execution_count": 16,
     "metadata": {},
     "output_type": "execute_result"
    }
   ],
   "source": [
    "contents_df['date'] = contents_df['date'].str.replace(r\"[-=+,#/\\?}_{:^$.;@*\\\"※~&%ㆍ!』\\\\‘|\\(\\)\\[\\]\\<\\>`\\'…■》]\", \"\")\n",
    "contents_df['date'] = contents_df['date'].str.strip()\n",
    "contents_df['date'][0]"
   ]
  },
  {
   "cell_type": "code",
   "execution_count": 17,
   "metadata": {},
   "outputs": [],
   "source": [
    "contents_df.to_csv(\"Gameshot_reviewtxt.csv\", index = False)"
   ]
  },
  {
   "cell_type": "code",
   "execution_count": null,
   "metadata": {},
   "outputs": [],
   "source": []
  }
 ],
 "metadata": {
  "kernelspec": {
   "display_name": "Python 3",
   "language": "python",
   "name": "python3"
  },
  "language_info": {
   "codemirror_mode": {
    "name": "ipython",
    "version": 3
   },
   "file_extension": ".py",
   "mimetype": "text/x-python",
   "name": "python",
   "nbconvert_exporter": "python",
   "pygments_lexer": "ipython3",
   "version": "3.6.8"
  }
 },
 "nbformat": 4,
 "nbformat_minor": 2
}
