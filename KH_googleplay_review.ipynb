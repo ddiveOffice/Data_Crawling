{
 "cells": [
  {
   "cell_type": "markdown",
   "metadata": {},
   "source": [
    "### Introduction\n",
    "- Neowiz 사의 다른 게임인 \"킹덤오브히어로 : Tactics War\" 의 google playstore review 전체 crawling\n",
    "- 작동 방식은 브라운더스트 crawling과 동일"
   ]
  },
  {
   "cell_type": "markdown",
   "metadata": {},
   "source": [
    "#### Import libraries"
   ]
  },
  {
   "cell_type": "code",
   "execution_count": 9,
   "metadata": {},
   "outputs": [],
   "source": [
    "from selenium import webdriver\n",
    "import time\n",
    "from bs4 import BeautifulSoup\n",
    "import pandas as pd"
   ]
  },
  {
   "cell_type": "code",
   "execution_count": 10,
   "metadata": {},
   "outputs": [],
   "source": [
    "driver = webdriver.Chrome('./chromedriver')\n",
    "review_url = 'https://play.google.com/store/apps/details?id=com.neowiz.game.koh&showAllReviews=true'\n",
    "driver.get(review_url) #접속할 Review "
   ]
  },
  {
   "cell_type": "markdown",
   "metadata": {},
   "source": [
    "#### Web page control"
   ]
  },
  {
   "cell_type": "code",
   "execution_count": 11,
   "metadata": {},
   "outputs": [
    {
     "name": "stdout",
     "output_type": "stream",
     "text": [
      "344.3110375404358 seconds spent to viewing all reviews\n"
     ]
    }
   ],
   "source": [
    "time_now = time.time()\n",
    "flag=0 \n",
    "while 1:\n",
    "    driver.execute_script(\"window.scrollTo(0, document.body.scrollHeight);\")\n",
    "    try:\n",
    "        loadMore=driver.find_element_by_xpath(\"//*[contains(@class,'U26fgb O0WRkf oG5Srb C0oVfc n9lfJ')]\").click()\n",
    "    except:\n",
    "        time.sleep(1)\n",
    "        flag=flag+1\n",
    "        if flag >= 10: \n",
    "            break\n",
    "    else:\n",
    "        flag=0\n",
    "print(\"{} seconds spent to viewing all reviews\".format(time.time()-time_now))"
   ]
  },
  {
   "cell_type": "code",
   "execution_count": 18,
   "metadata": {},
   "outputs": [],
   "source": [
    "table_dict = {}\n",
    "date_list = []\n",
    "contents_list = []\n",
    "stars_list = []\n",
    "\n",
    "#reviews=driver.find_elements_by_xpath(\"//*div[@class='d15Mdf bAhLNe']\")\n",
    "reviews=driver.find_elements_by_xpath(\"//*[@id='fcxH9b']//div[@class='d15Mdf bAhLNe']\")"
   ]
  },
  {
   "cell_type": "code",
   "execution_count": 19,
   "metadata": {},
   "outputs": [
    {
     "name": "stdout",
     "output_type": "stream",
     "text": [
      "2231\n"
     ]
    }
   ],
   "source": [
    "print(len(reviews))"
   ]
  },
  {
   "cell_type": "markdown",
   "metadata": {},
   "source": [
    "#### Rating"
   ]
  },
  {
   "cell_type": "code",
   "execution_count": 16,
   "metadata": {},
   "outputs": [
    {
     "name": "stdout",
     "output_type": "stream",
     "text": [
      "2231개의 review를 수집합니다.\n"
     ]
    }
   ],
   "source": [
    "star_cnt = 0\n",
    "for review in reviews: #text로 설명된 rating\n",
    "    soup=BeautifulSoup(review.get_attribute(\"innerHTML\"),\"lxml\")\n",
    "    ratings=soup.find('div',role='img').get('aria-label')\n",
    "    stars_list.append(ratings)\n",
    "    star_cnt += 1\n",
    "\n",
    "print(\"{}개의 review를 수집합니다.\".format(star_cnt))"
   ]
  },
  {
   "cell_type": "markdown",
   "metadata": {},
   "source": [
    "#### Review text"
   ]
  },
  {
   "cell_type": "code",
   "execution_count": 6,
   "metadata": {},
   "outputs": [
    {
     "name": "stdout",
     "output_type": "stream",
     "text": [
      "100th review text\n",
      "200th review text\n",
      "300th review text\n",
      "400th review text\n",
      "500th review text\n",
      "600th review text\n",
      "700th review text\n",
      "800th review text\n",
      "900th review text\n",
      "1000th review text\n",
      "1100th review text\n",
      "1200th review text\n",
      "1300th review text\n",
      "1400th review text\n",
      "1500th review text\n",
      "1600th review text\n",
      "1700th review text\n",
      "1800th review text\n",
      "1900th review text\n",
      "2000th review text\n",
      "2100th review text\n",
      "2200th review text\n"
     ]
    }
   ],
   "source": [
    "for i in range(1,star_cnt+1): #review text\n",
    "    review_txt = driver.find_elements_by_xpath('//*[@id=\"fcxH9b\"]/div[4]/c-wiz/div/div[2]/div/div[1]/div/div/div[1]/div[2]/div/div['+ str(i) + ']/div/div[2]/div[2]/span[1]')[0].text\n",
    "    contents_list.append(review_txt)\n",
    "    if i%100==0:\n",
    "        print(\"{}th review text\".format(i))"
   ]
  },
  {
   "cell_type": "markdown",
   "metadata": {},
   "source": [
    "#### Review date"
   ]
  },
  {
   "cell_type": "code",
   "execution_count": 7,
   "metadata": {},
   "outputs": [
    {
     "name": "stdout",
     "output_type": "stream",
     "text": [
      "100th review date\n",
      "200th review date\n",
      "300th review date\n",
      "400th review date\n",
      "500th review date\n",
      "600th review date\n",
      "700th review date\n",
      "800th review date\n",
      "900th review date\n",
      "1000th review date\n",
      "1100th review date\n",
      "1200th review date\n",
      "1300th review date\n",
      "1400th review date\n",
      "1500th review date\n",
      "1600th review date\n",
      "1700th review date\n",
      "1800th review date\n",
      "1900th review date\n",
      "2000th review date\n",
      "2100th review date\n",
      "2200th review date\n"
     ]
    }
   ],
   "source": [
    "for i in range(1,star_cnt+1): #review date\n",
    "    review_date = driver.find_elements_by_xpath('//*[@id=\"fcxH9b\"]/div[4]/c-wiz/div/div[2]/div/div[1]/div/div/div[1]/div[2]/div/div['+ str(i) + ']/div/div[2]/div[1]/div[1]/div/span[2]')[0].text\n",
    "    date_list.append(review_date)\n",
    "    if i%100==0:\n",
    "        print(\"{}th review date\".format(i))"
   ]
  },
  {
   "cell_type": "markdown",
   "metadata": {},
   "source": [
    "#### Saving Data Frame "
   ]
  },
  {
   "cell_type": "code",
   "execution_count": 8,
   "metadata": {},
   "outputs": [
    {
     "name": "stdout",
     "output_type": "stream",
     "text": [
      "\n",
      " \n",
      " \n",
      "\n",
      "가장 최근 작성 review 날짜 : 2019-05-23 00:00:00 \n",
      "가장 오래전 작성 review 날짜 : 2018-09-05 00:00:00 \n",
      "review 별 평점 분포 \n",
      " 5    1364\n",
      "4     400\n",
      "1     237\n",
      "3     152\n",
      "2      76\n",
      "Name: ratings, dtype: int64\n",
      "review 별 평점 분포 % \n",
      " 5    0.611934\n",
      "4    0.179453\n",
      "1    0.106326\n",
      "3    0.068192\n",
      "2    0.034096\n",
      "Name: ratings, dtype: float64\n"
     ]
    }
   ],
   "source": [
    "table_dict['time'] = date_list\n",
    "table_dict['review_txt'] = contents_list\n",
    "table_dict['stars_txt'] = stars_list\n",
    "\n",
    "review_df = pd.DataFrame.from_dict(table_dict)\n",
    "review_df['time'] = review_df.loc[:,'time'].str.replace(\" \",\"\")\n",
    "review_df['time'] = pd.to_datetime(review_df.loc[:,'time'], format = '%Y년%m월%d일')\n",
    "print('가장 최근 작성 review 날짜 : {} '.format(review_df['time'].max()))\n",
    "print('가장 오래전 작성 review 날짜 : {} '.format(review_df['time'].min()))\n",
    "\n",
    "review_df['ratings'] = review_df['stars_txt'].str[10]\n",
    "review_df['ratings'] = review_df['ratings'].astype(int)\n",
    "\n",
    "print('review 별 평점 분포', '\\n', review_df['ratings'].value_counts())\n",
    "print('review 별 평점 분포 %', '\\n', review_df['ratings'].value_counts(normalize = True))\n",
    "    \n",
    "review_df.to_csv('review_crwl_kingdomhero.csv', index = False)\n",
    "\n",
    "driver.close()"
   ]
  },
  {
   "cell_type": "code",
   "execution_count": null,
   "metadata": {},
   "outputs": [],
   "source": []
  }
 ],
 "metadata": {
  "kernelspec": {
   "display_name": "Python 3",
   "language": "python",
   "name": "python3"
  },
  "language_info": {
   "codemirror_mode": {
    "name": "ipython",
    "version": 3
   },
   "file_extension": ".py",
   "mimetype": "text/x-python",
   "name": "python",
   "nbconvert_exporter": "python",
   "pygments_lexer": "ipython3",
   "version": "3.6.8"
  }
 },
 "nbformat": 4,
 "nbformat_minor": 2
}
