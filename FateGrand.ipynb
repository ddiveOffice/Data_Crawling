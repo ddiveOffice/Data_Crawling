{
 "cells": [
  {
   "cell_type": "markdown",
   "metadata": {},
   "source": [
    "### Introduction\n",
    "- Netmarble 사의 Fate/grandorder googleplaystore review crawling\n",
    "- 작동 방식은 브라운더스트 crawling과 동일"
   ]
  },
  {
   "cell_type": "markdown",
   "metadata": {},
   "source": [
    "#### Import libraries"
   ]
  },
  {
   "cell_type": "code",
   "execution_count": 1,
   "metadata": {},
   "outputs": [],
   "source": [
    "from selenium import webdriver\n",
    "import time\n",
    "from bs4 import BeautifulSoup\n",
    "import pandas as pd"
   ]
  },
  {
   "cell_type": "code",
   "execution_count": 2,
   "metadata": {},
   "outputs": [],
   "source": [
    "driver = webdriver.Chrome('./chromedriver')\n",
    "review_url = 'https://play.google.com/store/apps/details?id=com.netmarble.fgok&showAllReviews=true'\n",
    "driver.get(review_url) #접속할 Review"
   ]
  },
  {
   "cell_type": "markdown",
   "metadata": {},
   "source": [
    "#### Web page control"
   ]
  },
  {
   "cell_type": "code",
   "execution_count": 3,
   "metadata": {},
   "outputs": [
    {
     "name": "stdout",
     "output_type": "stream",
     "text": [
      "9019.22232580185 seconds spent to viewing all reviews\n"
     ]
    }
   ],
   "source": [
    "time_now = time.time()\n",
    "flag=0 \n",
    "while 1:\n",
    "    driver.execute_script(\"window.scrollTo(0, document.body.scrollHeight);\")\n",
    "    try:\n",
    "        loadMore=driver.find_element_by_xpath(\"//*[contains(@class,'U26fgb O0WRkf oG5Srb C0oVfc n9lfJ')]\").click()\n",
    "        time.sleep(1)\n",
    "    except:\n",
    "        time.sleep(1)\n",
    "        flag=flag+1\n",
    "        if flag >= 100: \n",
    "            break\n",
    "    else:\n",
    "        flag=0\n",
    "        driver.execute_script(\"window.scrollTo(0, document.body.scrollHeight);\")\n",
    "    time.sleep(1)\n",
    "print(\"{} seconds spent to viewing all reviews\".format(time.time()-time_now))"
   ]
  },
  {
   "cell_type": "code",
   "execution_count": 4,
   "metadata": {},
   "outputs": [],
   "source": [
    "table_dict = {}\n",
    "date_list = []\n",
    "contents_list = []\n",
    "stars_list = []\n",
    "\n",
    "#reviews=driver.find_elements_by_xpath(\"//*div[@class='d15Mdf bAhLNe']\")\n",
    "reviews=driver.find_elements_by_xpath(\"//*[@id='fcxH9b']//div[@class='d15Mdf bAhLNe']\")"
   ]
  },
  {
   "cell_type": "code",
   "execution_count": 5,
   "metadata": {},
   "outputs": [
    {
     "name": "stdout",
     "output_type": "stream",
     "text": [
      "13634\n"
     ]
    }
   ],
   "source": [
    "print(len(reviews))"
   ]
  },
  {
   "cell_type": "markdown",
   "metadata": {},
   "source": [
    "#### Rating"
   ]
  },
  {
   "cell_type": "code",
   "execution_count": 6,
   "metadata": {},
   "outputs": [
    {
     "name": "stdout",
     "output_type": "stream",
     "text": [
      "13634개의 review를 수집합니다.\n"
     ]
    }
   ],
   "source": [
    "star_cnt = 0\n",
    "for review in reviews: #text로 설명된 rating\n",
    "    soup=BeautifulSoup(review.get_attribute(\"innerHTML\"),\"lxml\")\n",
    "    ratings=soup.find('div',role='img').get('aria-label')\n",
    "    stars_list.append(ratings)\n",
    "    star_cnt += 1\n",
    "\n",
    "print(\"{}개의 review를 수집합니다.\".format(star_cnt))"
   ]
  },
  {
   "cell_type": "markdown",
   "metadata": {},
   "source": [
    "#### Review text"
   ]
  },
  {
   "cell_type": "code",
   "execution_count": 7,
   "metadata": {},
   "outputs": [
    {
     "name": "stdout",
     "output_type": "stream",
     "text": [
      "1000th review text\n",
      "2000th review text\n",
      "3000th review text\n",
      "4000th review text\n",
      "5000th review text\n",
      "6000th review text\n",
      "7000th review text\n",
      "8000th review text\n",
      "9000th review text\n",
      "10000th review text\n",
      "11000th review text\n",
      "12000th review text\n",
      "13000th review text\n"
     ]
    }
   ],
   "source": [
    "for i in range(1,star_cnt+1): #review text\n",
    "    review_txt = driver.find_elements_by_xpath('//*[@id=\"fcxH9b\"]/div[4]/c-wiz/div/div[2]/div/div[1]/div/div/div[1]/div[2]/div/div['+ str(i) + ']/div/div[2]/div[2]/span[1]')[0].text\n",
    "    contents_list.append(review_txt)\n",
    "    if i%1000==0:\n",
    "        print(\"{}th review text\".format(i))"
   ]
  },
  {
   "cell_type": "markdown",
   "metadata": {},
   "source": [
    "#### Review date"
   ]
  },
  {
   "cell_type": "code",
   "execution_count": 8,
   "metadata": {},
   "outputs": [
    {
     "name": "stdout",
     "output_type": "stream",
     "text": [
      "1000th review date\n",
      "2000th review date\n",
      "3000th review date\n",
      "4000th review date\n",
      "5000th review date\n",
      "6000th review date\n",
      "7000th review date\n",
      "8000th review date\n",
      "9000th review date\n",
      "10000th review date\n",
      "11000th review date\n",
      "12000th review date\n",
      "13000th review date\n"
     ]
    }
   ],
   "source": [
    "for i in range(1,star_cnt+1): #review date\n",
    "    review_date = driver.find_elements_by_xpath('//*[@id=\"fcxH9b\"]/div[4]/c-wiz/div/div[2]/div/div[1]/div/div/div[1]/div[2]/div/div['+ str(i) + ']/div/div[2]/div[1]/div[1]/div/span[2]')[0].text\n",
    "    date_list.append(review_date)\n",
    "    if i%1000==0:\n",
    "        print(\"{}th review date\".format(i))"
   ]
  },
  {
   "cell_type": "code",
   "execution_count": 9,
   "metadata": {},
   "outputs": [
    {
     "name": "stdout",
     "output_type": "stream",
     "text": [
      "13634 13634 13634\n"
     ]
    }
   ],
   "source": [
    "print(len(date_list), len(contents_list), len(stars_list))"
   ]
  },
  {
   "cell_type": "markdown",
   "metadata": {},
   "source": [
    "#### Saving Data Frame "
   ]
  },
  {
   "cell_type": "code",
   "execution_count": 10,
   "metadata": {},
   "outputs": [
    {
     "name": "stdout",
     "output_type": "stream",
     "text": [
      "가장 최근 작성 review 날짜 : 2019-05-24 00:00:00 \n",
      "가장 오래전 작성 review 날짜 : 2017-11-21 00:00:00 \n",
      "review 별 평점 분포 \n",
      " 5    8431\n",
      "4    2235\n",
      "1    1510\n",
      "3    1083\n",
      "2     375\n",
      "Name: ratings, dtype: int64\n",
      "review 별 평점 분포 % \n",
      " 5    0.618381\n",
      "4    0.163928\n",
      "1    0.110753\n",
      "3    0.079434\n",
      "2    0.027505\n",
      "Name: ratings, dtype: float64\n"
     ]
    }
   ],
   "source": [
    "table_dict['time'] = date_list\n",
    "table_dict['review_txt'] = contents_list\n",
    "table_dict['stars_txt'] = stars_list\n",
    "\n",
    "review_df = pd.DataFrame.from_dict(table_dict)\n",
    "review_df['time'] = review_df.loc[:,'time'].str.replace(\" \",\"\")\n",
    "review_df['time'] = pd.to_datetime(review_df.loc[:,'time'], format = '%Y년%m월%d일')\n",
    "print('가장 최근 작성 review 날짜 : {} '.format(review_df['time'].max()))\n",
    "print('가장 오래전 작성 review 날짜 : {} '.format(review_df['time'].min()))\n",
    "\n",
    "review_df['ratings'] = review_df['stars_txt'].str[10]\n",
    "review_df['ratings'] = review_df['ratings'].astype(int)\n",
    "\n",
    "print('review 별 평점 분포', '\\n', review_df['ratings'].value_counts())\n",
    "print('review 별 평점 분포 %', '\\n', review_df['ratings'].value_counts(normalize = True))\n",
    "    \n",
    "review_df.to_csv('review_crwl_FateGrand.csv', index = False)\n",
    "\n",
    "driver.close()"
   ]
  },
  {
   "cell_type": "code",
   "execution_count": null,
   "metadata": {},
   "outputs": [],
   "source": []
  }
 ],
 "metadata": {
  "kernelspec": {
   "display_name": "Python 3",
   "language": "python",
   "name": "python3"
  },
  "language_info": {
   "codemirror_mode": {
    "name": "ipython",
    "version": 3
   },
   "file_extension": ".py",
   "mimetype": "text/x-python",
   "name": "python",
   "nbconvert_exporter": "python",
   "pygments_lexer": "ipython3",
   "version": "3.6.8"
  }
 },
 "nbformat": 4,
 "nbformat_minor": 2
}
